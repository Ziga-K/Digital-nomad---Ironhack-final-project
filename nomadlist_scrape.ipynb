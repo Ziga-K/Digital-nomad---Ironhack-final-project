{
 "cells": [
  {
   "cell_type": "code",
   "execution_count": 118,
   "metadata": {},
   "outputs": [],
   "source": [
    "import pandas as pd\n",
    "import time\n",
    "from selenium import webdriver \n",
    "from selenium.common.exceptions import TimeoutException\n",
    "from selenium.webdriver.support.ui import WebDriverWait\n",
    "from selenium.webdriver.support import expected_conditions as EC\n",
    "from selenium.webdriver.common.by import By\n",
    "import time\n",
    "\n",
    "#run in incognito\n",
    "chrome_options = webdriver.ChromeOptions()\n",
    "chrome_options.add_argument(\"--incognito\")\n",
    "driver = webdriver.Chrome(chrome_options=chrome_options)\n",
    "\n",
    "import warnings\n",
    "warnings.filterwarnings('ignore')"
   ]
  },
  {
   "cell_type": "code",
   "execution_count": 70,
   "metadata": {},
   "outputs": [],
   "source": [
    "driver.get('https://nomadlist.com/')"
   ]
  },
  {
   "cell_type": "code",
   "execution_count": 71,
   "metadata": {},
   "outputs": [],
   "source": [
    "#scroll to botton of page to load all cities\n",
    "# (https://www.codegrepper.com/search.php?q=selenium%20python%20scroll%20down%20until%20the%20end)\n",
    "SCROLL_PAUSE_TIME = 1\n",
    "\n",
    "# Get scroll height\n",
    "last_height = driver.execute_script(\"return document.body.scrollHeight\")\n",
    "\n",
    "while True:\n",
    "    # Scroll down to bottom\n",
    "    driver.execute_script(\"window.scrollTo(0, document.body.scrollHeight);\")\n",
    "\n",
    "    # Wait to load page\n",
    "    time.sleep(SCROLL_PAUSE_TIME)\n",
    "\n",
    "    # Calculate new scroll height and compare with last scroll height\n",
    "    new_height = driver.execute_script(\"return document.body.scrollHeight\")\n",
    "    if new_height == last_height:\n",
    "        break\n",
    "    last_height = new_height"
   ]
  },
  {
   "cell_type": "code",
   "execution_count": 72,
   "metadata": {},
   "outputs": [],
   "source": [
    "#get city names\n",
    "city_names = driver.find_elements_by_xpath('//h2[@class=\"itemName\"]')\n",
    "\n",
    "cty = []\n",
    "for i in range(len(city_names)):\n",
    "     cty.append(city_names[i].text)\n"
   ]
  },
  {
   "cell_type": "code",
   "execution_count": null,
   "metadata": {},
   "outputs": [],
   "source": [
    "cty"
   ]
  },
  {
   "cell_type": "code",
   "execution_count": 74,
   "metadata": {},
   "outputs": [],
   "source": [
    "#match name format of cities for later scrape using url per city\n",
    "cty_list = []\n",
    "for i in cty:\n",
    "    a = i.split(\",\")\n",
    "    cty_list.append(a[0].replace(\" \", \"-\"))"
   ]
  },
  {
   "cell_type": "code",
   "execution_count": 76,
   "metadata": {},
   "outputs": [
    {
     "data": {
      "text/plain": [
       "1346"
      ]
     },
     "execution_count": 76,
     "metadata": {},
     "output_type": "execute_result"
    }
   ],
   "source": [
    "len(cty_list)"
   ]
  },
  {
   "cell_type": "code",
   "execution_count": 44,
   "metadata": {},
   "outputs": [],
   "source": [
    "driver.get('https://nomadlist.com/lisbon')"
   ]
  },
  {
   "cell_type": "code",
   "execution_count": 13,
   "metadata": {},
   "outputs": [
    {
     "data": {
      "text/plain": [
       "['⭐️ Total score',\n",
       " '👍 Quality of life score',\n",
       " '👶 Family score',\n",
       " '💵 Cost',\n",
       " '📡 Internet',\n",
       " '😝 Fun',\n",
       " '⛅️ Temperature (now)',\n",
       " '💦 Humidity (now)',\n",
       " '💨 Air quality (now)',\n",
       " '💨 Air quality (annual)',\n",
       " '👌 Safety',\n",
       " '👮\\u200d♀️ Lack of crime*',\n",
       " '🤝 Lack of racism*',\n",
       " '🎓 Education level*',\n",
       " '💰 Income level*',\n",
       " '🙊 English speaking*',\n",
       " '😤 People density',\n",
       " '🚶 Walkability',\n",
       " '✌️ Peace (no pol. conflict)',\n",
       " '🚦 Traffic safety*',\n",
       " '🏥 Hospitals*',\n",
       " '😄 Happiness*',\n",
       " '🍸 Nightlife',\n",
       " '📶 Free WiFi in city',\n",
       " '🖥 Places to work from',\n",
       " '❄️ A/C or heating',\n",
       " '😁 Friendly to foreigners',\n",
       " '🗯 Freedom of speech*',\n",
       " '👩 Female friendly',\n",
       " '🌈 LGBTQ+ friendly',\n",
       " '🎅 Startup Score',\n",
       " '',\n",
       " '',\n",
       " '',\n",
       " '',\n",
       " '',\n",
       " '',\n",
       " '',\n",
       " '',\n",
       " '',\n",
       " '',\n",
       " '',\n",
       " '',\n",
       " '',\n",
       " '',\n",
       " '',\n",
       " '',\n",
       " '',\n",
       " '',\n",
       " '',\n",
       " '',\n",
       " '',\n",
       " '',\n",
       " '',\n",
       " '',\n",
       " '',\n",
       " '',\n",
       " '',\n",
       " '',\n",
       " '',\n",
       " '',\n",
       " '',\n",
       " '',\n",
       " '',\n",
       " '',\n",
       " '']"
      ]
     },
     "execution_count": 13,
     "metadata": {},
     "output_type": "execute_result"
    }
   ],
   "source": [
    "# get column names\n",
    "column_ = driver.find_elements_by_xpath('//td[@class=\"key\"]')\n",
    "\n",
    "column = []\n",
    "for i in range(len(column_)):\n",
    "     column.append(column_[i].text)\n",
    "\n",
    "column"
   ]
  },
  {
   "cell_type": "code",
   "execution_count": null,
   "metadata": {},
   "outputs": [],
   "source": [
    "\"\"\"\n",
    "function to loop trough cities urls and get the cotent \n",
    "\"\"\"\n",
    "\n",
    "# city_info = []\n",
    "# for c in cty_list:\n",
    "#     driver.get(f\"https://nomadlist.com/{c}\")\n",
    "#     time.sleep(2)\n",
    "#     content_ = driver.find_elements_by_xpath('//td[@class=\"value\"]')\n",
    "#     time.sleep(2)\n",
    "#     cnt = []\n",
    "#     for i in range(len(content_)):\n",
    "#         cnt.append(content_[i].text)\n",
    "#     print(len(cnt))\n",
    "#     city_info.append(cnt)\n"
   ]
  },
  {
   "cell_type": "code",
   "execution_count": 77,
   "metadata": {},
   "outputs": [],
   "source": [
    "columns = ['⭐️ Total score',\n",
    " '👍 Quality of life score',\n",
    " '👶 Family score',\n",
    " '💵 Cost',\n",
    " '📡 Internet',\n",
    " '😝 Fun',\n",
    " '⛅️ Temperature (now)',\n",
    " '💦 Humidity (now)',\n",
    " '💨 Air quality (now)',\n",
    " '💨 Air quality (annual)',\n",
    " '👌 Safety',\n",
    " '👮\\u200d♀️ Lack of crime*',\n",
    " '🤝 Lack of racism*',\n",
    " '🎓 Education level*',\n",
    " '💰 Income level*',\n",
    " '🙊 English speaking*',\n",
    " '😤 People density',\n",
    " '🚶 Walkability',\n",
    " '✌️ Peace (no pol. conflict)',\n",
    " '🚦 Traffic safety*',\n",
    " '🏥 Hospitals*',\n",
    " '😄 Happiness*',\n",
    " '🍸 Nightlife',\n",
    " '📶 Free WiFi in city',\n",
    " '🖥 Places to work from',\n",
    " '❄️ A/C or heating',\n",
    " '😁 Friendly to foreigners',\n",
    " '🗯 Freedom of speech*',\n",
    " '👩 Female friendly',\n",
    " '🌈 LGBTQ+ friendly',\n",
    " '🎅 Startup Score']"
   ]
  },
  {
   "cell_type": "code",
   "execution_count": 78,
   "metadata": {},
   "outputs": [],
   "source": [
    "#get cities content \n",
    "raw_data = []\n",
    "for c in cty_list:\n",
    "    driver.get(f\"https://nomadlist.com/{c}\")\n",
    "    final_row = {}\n",
    "    time.sleep(2)\n",
    "    for col in columns:\n",
    "        try:\n",
    "            single_cat = (driver.find_element_by_xpath(f\"//tr[contains(., '{col}')]\")).text\n",
    "            final_row.update({col:single_cat})    \n",
    "        except:\n",
    "            final_row.update({col:\"None\"})\n",
    "    raw_data.append(final_row)"
   ]
  },
  {
   "cell_type": "code",
   "execution_count": null,
   "metadata": {},
   "outputs": [],
   "source": [
    "raw_data"
   ]
  },
  {
   "cell_type": "code",
   "execution_count": 100,
   "metadata": {},
   "outputs": [],
   "source": [
    "df = pd.DataFrame(data=raw_data, columns=columns)"
   ]
  },
  {
   "cell_type": "code",
   "execution_count": null,
   "metadata": {},
   "outputs": [],
   "source": [
    "pd.set_option('display.max_rows', None)\n",
    "df"
   ]
  },
  {
   "cell_type": "code",
   "execution_count": 102,
   "metadata": {},
   "outputs": [],
   "source": [
    "df.insert(0, 'City', cty)"
   ]
  },
  {
   "cell_type": "code",
   "execution_count": 104,
   "metadata": {},
   "outputs": [],
   "source": [
    "`#save to csv\n",
    "df.to_csv('nomad_list.csv')"
   ]
  },
  {
   "cell_type": "code",
   "execution_count": 121,
   "metadata": {},
   "outputs": [],
   "source": [
    "df = pd.read_csv('nomad_list.csv')"
   ]
  },
  {
   "cell_type": "code",
   "execution_count": 147,
   "metadata": {},
   "outputs": [],
   "source": [
    "df_none = df.loc[df['⭐️ Total score'] == 'None']"
   ]
  },
  {
   "cell_type": "code",
   "execution_count": 148,
   "metadata": {},
   "outputs": [
    {
     "data": {
      "text/plain": [
       "10                       São Paulo\n",
       "23                        Medellín\n",
       "25                             NaN\n",
       "51                          Kraków\n",
       "108              Portimão, Algarve\n",
       "268                        Wrocław\n",
       "288                          Malmö\n",
       "289                       San José\n",
       "313                 St. Catharines\n",
       "357                        Vitória\n",
       "387                     Nuku'alofa\n",
       "429                     Valparaíso\n",
       "450     San Cristóbal de las Casas\n",
       "485                 St. Joseph, MO\n",
       "533                  St. Louis, MO\n",
       "588            São José dos Campos\n",
       "593                        Jundiaí\n",
       "750                   Viña del Mar\n",
       "768              Coeur d'Alene, ID\n",
       "770             Port St. Lucie, FL\n",
       "818                  St. Cloud, MN\n",
       "1006                        Sana'a\n",
       "1021                       Huai'an\n",
       "1066                St. George, UT\n",
       "1087                          León\n",
       "1098                        Rui'an\n",
       "1104                       Šumperk\n",
       "1198                        Dorobō\n",
       "1232                      Anápolis\n",
       "1261                     St John's\n",
       "1287                    St. Gallen\n",
       "1340                        Nouméa\n",
       "1342             Tabaranã do Norte\n",
       "1345                     N'Djamena\n",
       "Name: City, dtype: object"
      ]
     },
     "execution_count": 148,
     "metadata": {},
     "output_type": "execute_result"
    }
   ],
   "source": [
    "# cities for which scrape did not work \n",
    "df_none['City']"
   ]
  }
 ],
 "metadata": {
  "interpreter": {
   "hash": "b0fa6594d8f4cbf19f97940f81e996739fb7646882a419484c72d19e05852a7e"
  },
  "kernelspec": {
   "display_name": "Python 3.9.7 64-bit",
   "name": "python3"
  },
  "language_info": {
   "codemirror_mode": {
    "name": "ipython",
    "version": 3
   },
   "file_extension": ".py",
   "mimetype": "text/x-python",
   "name": "python",
   "nbconvert_exporter": "python",
   "pygments_lexer": "ipython3",
   "version": "3.9.7"
  },
  "orig_nbformat": 4
 },
 "nbformat": 4,
 "nbformat_minor": 2
}
