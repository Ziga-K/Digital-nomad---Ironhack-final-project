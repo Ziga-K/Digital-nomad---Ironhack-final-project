{
 "cells": [
  {
   "cell_type": "code",
   "execution_count": 1,
   "metadata": {},
   "outputs": [],
   "source": [
    "import pandas as pd\n",
    "import numpy as np\n",
    "import re\n",
    "\n",
    "pd.set_option('display.max_columns', None)"
   ]
  },
  {
   "cell_type": "code",
   "execution_count": 2,
   "metadata": {},
   "outputs": [],
   "source": [
    "nomad_df = pd.read_csv('nomad_list.csv')"
   ]
  },
  {
   "cell_type": "code",
   "execution_count": 3,
   "metadata": {},
   "outputs": [
    {
     "data": {
      "text/html": [
       "<div>\n",
       "<style scoped>\n",
       "    .dataframe tbody tr th:only-of-type {\n",
       "        vertical-align: middle;\n",
       "    }\n",
       "\n",
       "    .dataframe tbody tr th {\n",
       "        vertical-align: top;\n",
       "    }\n",
       "\n",
       "    .dataframe thead th {\n",
       "        text-align: right;\n",
       "    }\n",
       "</style>\n",
       "<table border=\"1\" class=\"dataframe\">\n",
       "  <thead>\n",
       "    <tr style=\"text-align: right;\">\n",
       "      <th></th>\n",
       "      <th>Unnamed: 0</th>\n",
       "      <th>Rank</th>\n",
       "      <th>City</th>\n",
       "      <th>⭐️ Total score</th>\n",
       "      <th>👍 Quality of life score</th>\n",
       "      <th>👶 Family score</th>\n",
       "      <th>💵 Cost</th>\n",
       "      <th>📡 Internet</th>\n",
       "      <th>😝 Fun</th>\n",
       "      <th>⛅️ Temperature (now)</th>\n",
       "      <th>💦 Humidity (now)</th>\n",
       "      <th>💨 Air quality (now)</th>\n",
       "      <th>💨 Air quality (annual)</th>\n",
       "      <th>👌 Safety</th>\n",
       "      <th>👮‍♀️ Lack of crime*</th>\n",
       "      <th>🤝 Lack of racism*</th>\n",
       "      <th>🎓 Education level*</th>\n",
       "      <th>💰 Income level*</th>\n",
       "      <th>🙊 English speaking*</th>\n",
       "      <th>😤 People density</th>\n",
       "      <th>🚶 Walkability</th>\n",
       "      <th>✌️ Peace (no pol. conflict)</th>\n",
       "      <th>🚦 Traffic safety*</th>\n",
       "      <th>🏥 Hospitals*</th>\n",
       "      <th>😄 Happiness*</th>\n",
       "      <th>🍸 Nightlife</th>\n",
       "      <th>📶 Free WiFi in city</th>\n",
       "      <th>🖥 Places to work from</th>\n",
       "      <th>❄️ A/C or heating</th>\n",
       "      <th>😁 Friendly to foreigners</th>\n",
       "      <th>🗯 Freedom of speech*</th>\n",
       "      <th>👩 Female friendly</th>\n",
       "      <th>🌈 LGBTQ+ friendly</th>\n",
       "      <th>🎅 Startup Score</th>\n",
       "    </tr>\n",
       "  </thead>\n",
       "  <tbody>\n",
       "    <tr>\n",
       "      <th>0</th>\n",
       "      <td>0</td>\n",
       "      <td>0</td>\n",
       "      <td>Lisbon</td>\n",
       "      <td>⭐️ Total score\\n4.8/5 (Rank #1)\\n255 reviews</td>\n",
       "      <td>👍 Quality of life score\\nGood</td>\n",
       "      <td>👶 Family score\\nGood</td>\n",
       "      <td>💵 Cost\\n😙 Affordable: $2,082 / mo</td>\n",
       "      <td>📡 Internet\\n🏎 Fast: 26Mbps (avg)</td>\n",
       "      <td>😝 Fun\\nGreat</td>\n",
       "      <td>⛅️ Temperature (now)\\n🌞 Nice: 18°C (feels 19°C)</td>\n",
       "      <td>💦 Humidity (now)\\n😊 Comfy: 76%</td>\n",
       "      <td>💨 Air quality (now)\\n🌱 Great: 16 US AQI</td>\n",
       "      <td>💨 Air quality (annual)\\n🌱 Great: 32 US AQI</td>\n",
       "      <td>👌 Safety\\nGreat</td>\n",
       "      <td>👮‍♀️ Lack of crime*\\nGreat</td>\n",
       "      <td>🤝 Lack of racism*\\nOkay</td>\n",
       "      <td>🎓 Education level*\\nMediocre</td>\n",
       "      <td>💰 Income level*\\nLow: $1,646 / mo</td>\n",
       "      <td>🙊 English speaking*\\nGreat</td>\n",
       "      <td>😤 People density\\n🧘‍♀️ Low density: 6k ppl/km²...</td>\n",
       "      <td>🚶 Walkability\\nGreat</td>\n",
       "      <td>✌️ Peace (no pol. conflict)\\nGood</td>\n",
       "      <td>🚦 Traffic safety*\\nOkay</td>\n",
       "      <td>🏥 Hospitals*\\nBad</td>\n",
       "      <td>😄 Happiness*\\nOkay</td>\n",
       "      <td>🍸 Nightlife\\nOkay</td>\n",
       "      <td>📶 Free WiFi in city\\nOkay</td>\n",
       "      <td>🖥 Places to work from\\nGreat</td>\n",
       "      <td>❄️ A/C or heating\\nOkay</td>\n",
       "      <td>😁 Friendly to foreigners\\nGood</td>\n",
       "      <td>🗯 Freedom of speech*\\nGood</td>\n",
       "      <td>👩 Female friendly\\nGood</td>\n",
       "      <td>🌈 LGBTQ+ friendly\\nGreat</td>\n",
       "      <td>🎅 Startup Score\\nOkay</td>\n",
       "    </tr>\n",
       "    <tr>\n",
       "      <th>1</th>\n",
       "      <td>1</td>\n",
       "      <td>1</td>\n",
       "      <td>Cape Town</td>\n",
       "      <td>⭐️ Total score\\n4.67/5 (Rank #2)\\n251 reviews</td>\n",
       "      <td>👍 Quality of life score\\nGood</td>\n",
       "      <td>👶 Family score\\nGood</td>\n",
       "      <td>💵 Cost\\n😙 Affordable: $1,692 / mo</td>\n",
       "      <td>📡 Internet\\n🙂 Good: 8Mbps (avg)</td>\n",
       "      <td>😝 Fun\\nGood</td>\n",
       "      <td>⛅️ Temperature (now)\\n🌞 Perfect: 22°C (feels 2...</td>\n",
       "      <td>💦 Humidity (now)\\n😊 Comfy: 87%</td>\n",
       "      <td>💨 Air quality (now)\\n🌱 Great: 1 US AQI</td>\n",
       "      <td>💨 Air quality (annual)\\n🌱 Great: 16 US AQI</td>\n",
       "      <td>👌 Safety\\nOkay</td>\n",
       "      <td>👮‍♀️ Lack of crime*\\nVery bad</td>\n",
       "      <td>🤝 Lack of racism*\\nOkay</td>\n",
       "      <td>🎓 Education level*\\nMediocre</td>\n",
       "      <td>💰 Income level*\\nVery low: $425 / mo</td>\n",
       "      <td>🙊 English speaking*\\nGreat</td>\n",
       "      <td>😤 People density\\n🧘‍♀️ Low density: 4k ppl/km²...</td>\n",
       "      <td>🚶 Walkability\\nGreat</td>\n",
       "      <td>✌️ Peace (no pol. conflict)\\nBad</td>\n",
       "      <td>🚦 Traffic safety*\\nBad</td>\n",
       "      <td>🏥 Hospitals*\\nGood</td>\n",
       "      <td>😄 Happiness*\\nBad</td>\n",
       "      <td>🍸 Nightlife\\nGood</td>\n",
       "      <td>📶 Free WiFi in city\\nGood</td>\n",
       "      <td>🖥 Places to work from\\nGreat</td>\n",
       "      <td>❄️ A/C or heating\\nBad</td>\n",
       "      <td>😁 Friendly to foreigners\\nGood</td>\n",
       "      <td>🗯 Freedom of speech*\\nGood</td>\n",
       "      <td>👩 Female friendly\\nOkay</td>\n",
       "      <td>🌈 LGBTQ+ friendly\\nGreat</td>\n",
       "      <td>🎅 Startup Score\\nOkay</td>\n",
       "    </tr>\n",
       "  </tbody>\n",
       "</table>\n",
       "</div>"
      ],
      "text/plain": [
       "   Unnamed: 0  Rank       City                                 ⭐️ Total score  \\\n",
       "0           0     0     Lisbon   ⭐️ Total score\\n4.8/5 (Rank #1)\\n255 reviews   \n",
       "1           1     1  Cape Town  ⭐️ Total score\\n4.67/5 (Rank #2)\\n251 reviews   \n",
       "\n",
       "         👍 Quality of life score        👶 Family score  \\\n",
       "0  👍 Quality of life score\\nGood  👶 Family score\\nGood   \n",
       "1  👍 Quality of life score\\nGood  👶 Family score\\nGood   \n",
       "\n",
       "                              💵 Cost                        📡 Internet  \\\n",
       "0  💵 Cost\\n😙 Affordable: $2,082 / mo  📡 Internet\\n🏎 Fast: 26Mbps (avg)   \n",
       "1  💵 Cost\\n😙 Affordable: $1,692 / mo   📡 Internet\\n🙂 Good: 8Mbps (avg)   \n",
       "\n",
       "          😝 Fun                               ⛅️ Temperature (now)  \\\n",
       "0  😝 Fun\\nGreat    ⛅️ Temperature (now)\\n🌞 Nice: 18°C (feels 19°C)   \n",
       "1   😝 Fun\\nGood  ⛅️ Temperature (now)\\n🌞 Perfect: 22°C (feels 2...   \n",
       "\n",
       "                 💦 Humidity (now)                      💨 Air quality (now)  \\\n",
       "0  💦 Humidity (now)\\n😊 Comfy: 76%  💨 Air quality (now)\\n🌱 Great: 16 US AQI   \n",
       "1  💦 Humidity (now)\\n😊 Comfy: 87%   💨 Air quality (now)\\n🌱 Great: 1 US AQI   \n",
       "\n",
       "                       💨 Air quality (annual)         👌 Safety  \\\n",
       "0  💨 Air quality (annual)\\n🌱 Great: 32 US AQI  👌 Safety\\nGreat   \n",
       "1  💨 Air quality (annual)\\n🌱 Great: 16 US AQI   👌 Safety\\nOkay   \n",
       "\n",
       "             👮‍♀️ Lack of crime*        🤝 Lack of racism*  \\\n",
       "0     👮‍♀️ Lack of crime*\\nGreat  🤝 Lack of racism*\\nOkay   \n",
       "1  👮‍♀️ Lack of crime*\\nVery bad  🤝 Lack of racism*\\nOkay   \n",
       "\n",
       "             🎓 Education level*                       💰 Income level*  \\\n",
       "0  🎓 Education level*\\nMediocre     💰 Income level*\\nLow: $1,646 / mo   \n",
       "1  🎓 Education level*\\nMediocre  💰 Income level*\\nVery low: $425 / mo   \n",
       "\n",
       "          🙊 English speaking*  \\\n",
       "0  🙊 English speaking*\\nGreat   \n",
       "1  🙊 English speaking*\\nGreat   \n",
       "\n",
       "                                    😤 People density         🚶 Walkability  \\\n",
       "0  😤 People density\\n🧘‍♀️ Low density: 6k ppl/km²...  🚶 Walkability\\nGreat   \n",
       "1  😤 People density\\n🧘‍♀️ Low density: 4k ppl/km²...  🚶 Walkability\\nGreat   \n",
       "\n",
       "         ✌️ Peace (no pol. conflict)        🚦 Traffic safety*  \\\n",
       "0  ✌️ Peace (no pol. conflict)\\nGood  🚦 Traffic safety*\\nOkay   \n",
       "1   ✌️ Peace (no pol. conflict)\\nBad   🚦 Traffic safety*\\nBad   \n",
       "\n",
       "         🏥 Hospitals*        😄 Happiness*        🍸 Nightlife  \\\n",
       "0   🏥 Hospitals*\\nBad  😄 Happiness*\\nOkay  🍸 Nightlife\\nOkay   \n",
       "1  🏥 Hospitals*\\nGood   😄 Happiness*\\nBad  🍸 Nightlife\\nGood   \n",
       "\n",
       "         📶 Free WiFi in city         🖥 Places to work from  \\\n",
       "0  📶 Free WiFi in city\\nOkay  🖥 Places to work from\\nGreat   \n",
       "1  📶 Free WiFi in city\\nGood  🖥 Places to work from\\nGreat   \n",
       "\n",
       "         ❄️ A/C or heating        😁 Friendly to foreigners  \\\n",
       "0  ❄️ A/C or heating\\nOkay  😁 Friendly to foreigners\\nGood   \n",
       "1   ❄️ A/C or heating\\nBad  😁 Friendly to foreigners\\nGood   \n",
       "\n",
       "         🗯 Freedom of speech*        👩 Female friendly  \\\n",
       "0  🗯 Freedom of speech*\\nGood  👩 Female friendly\\nGood   \n",
       "1  🗯 Freedom of speech*\\nGood  👩 Female friendly\\nOkay   \n",
       "\n",
       "          🌈 LGBTQ+ friendly        🎅 Startup Score  \n",
       "0  🌈 LGBTQ+ friendly\\nGreat  🎅 Startup Score\\nOkay  \n",
       "1  🌈 LGBTQ+ friendly\\nGreat  🎅 Startup Score\\nOkay  "
      ]
     },
     "execution_count": 3,
     "metadata": {},
     "output_type": "execute_result"
    }
   ],
   "source": [
    "nomad_df.head(2)"
   ]
  },
  {
   "cell_type": "code",
   "execution_count": 4,
   "metadata": {},
   "outputs": [
    {
     "data": {
      "text/plain": [
       "Index(['Unnamed: 0', 'Rank', 'City', '⭐️ Total score',\n",
       "       '👍 Quality of life score', '👶 Family score', '💵 Cost', '📡 Internet',\n",
       "       '😝 Fun', '⛅️ Temperature (now)', '💦 Humidity (now)',\n",
       "       '💨 Air quality (now)', '💨 Air quality (annual)', '👌 Safety',\n",
       "       '👮‍♀️ Lack of crime*', '🤝 Lack of racism*', '🎓 Education level*',\n",
       "       '💰 Income level*', '🙊 English speaking*', '😤 People density',\n",
       "       '🚶 Walkability', '✌️ Peace (no pol. conflict)', '🚦 Traffic safety*',\n",
       "       '🏥 Hospitals*', '😄 Happiness*', '🍸 Nightlife', '📶 Free WiFi in city',\n",
       "       '🖥 Places to work from', '❄️ A/C or heating',\n",
       "       '😁 Friendly to foreigners', '🗯 Freedom of speech*', '👩 Female friendly',\n",
       "       '🌈 LGBTQ+ friendly', '🎅 Startup Score'],\n",
       "      dtype='object')"
      ]
     },
     "execution_count": 4,
     "metadata": {},
     "output_type": "execute_result"
    }
   ],
   "source": [
    "nomad_df.columns"
   ]
  },
  {
   "cell_type": "code",
   "execution_count": 5,
   "metadata": {},
   "outputs": [],
   "source": [
    "nomad_df.drop(['Unnamed: 0', '⛅️ Temperature (now)', '💦 Humidity (now)', '💨 Air quality (now)', '✌️ Peace (no pol. conflict)', '🏥 Hospitals*', '😤 People density', '👌 Safety'], inplace=True, axis=1)"
   ]
  },
  {
   "cell_type": "code",
   "execution_count": 6,
   "metadata": {},
   "outputs": [],
   "source": [
    "# '🏥 Hospitals*' '😤 People density' high none value , 👌 Safety as lack could be the same "
   ]
  },
  {
   "cell_type": "code",
   "execution_count": 7,
   "metadata": {},
   "outputs": [
    {
     "data": {
      "text/plain": [
       "Index(['Rank', 'City', '⭐️ Total score', '👍 Quality of life score',\n",
       "       '👶 Family score', '💵 Cost', '📡 Internet', '😝 Fun',\n",
       "       '💨 Air quality (annual)', '👮‍♀️ Lack of crime*', '🤝 Lack of racism*',\n",
       "       '🎓 Education level*', '💰 Income level*', '🙊 English speaking*',\n",
       "       '🚶 Walkability', '🚦 Traffic safety*', '😄 Happiness*', '🍸 Nightlife',\n",
       "       '📶 Free WiFi in city', '🖥 Places to work from', '❄️ A/C or heating',\n",
       "       '😁 Friendly to foreigners', '🗯 Freedom of speech*', '👩 Female friendly',\n",
       "       '🌈 LGBTQ+ friendly', '🎅 Startup Score'],\n",
       "      dtype='object')"
      ]
     },
     "execution_count": 7,
     "metadata": {},
     "output_type": "execute_result"
    }
   ],
   "source": [
    "nomad_df.columns"
   ]
  },
  {
   "cell_type": "code",
   "execution_count": 8,
   "metadata": {},
   "outputs": [],
   "source": [
    "nomad_df['⭐️ Total score'] = nomad_df['⭐️ Total score'].map(lambda x: str(x)[15:18])"
   ]
  },
  {
   "cell_type": "code",
   "execution_count": 9,
   "metadata": {},
   "outputs": [
    {
     "data": {
      "text/plain": [
       "👍 Quality of life score\\nOkay     692\n",
       "👍 Quality of life score\\nGood     560\n",
       "👍 Quality of life score\\nBad       59\n",
       "👍 Quality of life score\\nGreat      1\n",
       "Name: 👍 Quality of life score, dtype: int64"
      ]
     },
     "execution_count": 9,
     "metadata": {},
     "output_type": "execute_result"
    }
   ],
   "source": [
    "nomad_df['👍 Quality of life score'].value_counts()"
   ]
  },
  {
   "cell_type": "code",
   "execution_count": 10,
   "metadata": {},
   "outputs": [],
   "source": [
    "nomad_df['👍 Quality of life score'] = nomad_df['👍 Quality of life score'].map(lambda x: str(x)[24:])"
   ]
  },
  {
   "cell_type": "code",
   "execution_count": 11,
   "metadata": {},
   "outputs": [
    {
     "data": {
      "text/plain": [
       "Okay     692\n",
       "Good     560\n",
       "Bad       59\n",
       "Great      1\n",
       "Name: 👍 Quality of life score, dtype: int64"
      ]
     },
     "execution_count": 11,
     "metadata": {},
     "output_type": "execute_result"
    }
   ],
   "source": [
    "nomad_df['👍 Quality of life score'].value_counts()"
   ]
  },
  {
   "cell_type": "code",
   "execution_count": 12,
   "metadata": {},
   "outputs": [
    {
     "data": {
      "text/plain": [
       "👶 Family score\\nOkay    690\n",
       "👶 Family score\\nBad     411\n",
       "👶 Family score\\nGood    211\n",
       "Name: 👶 Family score, dtype: int64"
      ]
     },
     "execution_count": 12,
     "metadata": {},
     "output_type": "execute_result"
    }
   ],
   "source": [
    "nomad_df['👶 Family score'].value_counts()"
   ]
  },
  {
   "cell_type": "code",
   "execution_count": 13,
   "metadata": {},
   "outputs": [],
   "source": [
    "nomad_df['👶 Family score'] = nomad_df['👶 Family score'].map(lambda x: str(x)[15:])"
   ]
  },
  {
   "cell_type": "code",
   "execution_count": 14,
   "metadata": {},
   "outputs": [
    {
     "data": {
      "text/plain": [
       "Okay    690\n",
       "Bad     411\n",
       "Good    211\n",
       "Name: 👶 Family score, dtype: int64"
      ]
     },
     "execution_count": 14,
     "metadata": {},
     "output_type": "execute_result"
    }
   ],
   "source": [
    "nomad_df['👶 Family score'].value_counts()"
   ]
  },
  {
   "cell_type": "code",
   "execution_count": 15,
   "metadata": {},
   "outputs": [
    {
     "data": {
      "text/plain": [
       "😝 Fun\\nOkay     649\n",
       "😝 Fun\\nBad      328\n",
       "😝 Fun\\nGood     233\n",
       "😝 Fun\\nGreat     98\n",
       "None              4\n",
       "Name: 😝 Fun, dtype: int64"
      ]
     },
     "execution_count": 15,
     "metadata": {},
     "output_type": "execute_result"
    }
   ],
   "source": [
    "nomad_df['😝 Fun'].value_counts()"
   ]
  },
  {
   "cell_type": "code",
   "execution_count": 16,
   "metadata": {},
   "outputs": [],
   "source": [
    "nomad_df['😝 Fun'] = nomad_df['😝 Fun'].map(lambda x: str(x)[6:])"
   ]
  },
  {
   "cell_type": "code",
   "execution_count": 17,
   "metadata": {},
   "outputs": [
    {
     "data": {
      "text/plain": [
       "Okay     649\n",
       "Bad      328\n",
       "Good     233\n",
       "Great     98\n",
       "           4\n",
       "Name: 😝 Fun, dtype: int64"
      ]
     },
     "execution_count": 17,
     "metadata": {},
     "output_type": "execute_result"
    }
   ],
   "source": [
    "nomad_df['😝 Fun'].value_counts()"
   ]
  },
  {
   "cell_type": "code",
   "execution_count": 18,
   "metadata": {},
   "outputs": [
    {
     "data": {
      "text/plain": [
       "👮‍♀️ Lack of crime*\\nGood        673\n",
       "👮‍♀️ Lack of crime*\\nGreat       384\n",
       "👮‍♀️ Lack of crime*\\nOkay         92\n",
       "👮‍♀️ Lack of crime*\\nBad          88\n",
       "👮‍♀️ Lack of crime*\\nVery bad     56\n",
       "None                              19\n",
       "Name: 👮‍♀️ Lack of crime*, dtype: int64"
      ]
     },
     "execution_count": 18,
     "metadata": {},
     "output_type": "execute_result"
    }
   ],
   "source": [
    "nomad_df['👮‍♀️ Lack of crime*'].value_counts()"
   ]
  },
  {
   "cell_type": "code",
   "execution_count": 19,
   "metadata": {},
   "outputs": [],
   "source": [
    "nomad_df['👮‍♀️ Lack of crime*'] = nomad_df['👮‍♀️ Lack of crime*'].map(lambda x: str(x)[20:])"
   ]
  },
  {
   "cell_type": "code",
   "execution_count": 20,
   "metadata": {},
   "outputs": [
    {
     "data": {
      "text/plain": [
       "Good        673\n",
       "Great       384\n",
       "Okay         92\n",
       "Bad          88\n",
       "Very bad     56\n",
       "             19\n",
       "Name: 👮‍♀️ Lack of crime*, dtype: int64"
      ]
     },
     "execution_count": 20,
     "metadata": {},
     "output_type": "execute_result"
    }
   ],
   "source": [
    "nomad_df['👮‍♀️ Lack of crime*'].value_counts()"
   ]
  },
  {
   "cell_type": "code",
   "execution_count": 21,
   "metadata": {},
   "outputs": [
    {
     "data": {
      "text/plain": [
       "🤝 Lack of racism*\\nBad      428\n",
       "🤝 Lack of racism*\\nGood     365\n",
       "🤝 Lack of racism*\\nOkay     312\n",
       "🤝 Lack of racism*\\nGreat    136\n",
       "None                         71\n",
       "Name: 🤝 Lack of racism*, dtype: int64"
      ]
     },
     "execution_count": 21,
     "metadata": {},
     "output_type": "execute_result"
    }
   ],
   "source": [
    "nomad_df['🤝 Lack of racism*'].value_counts()"
   ]
  },
  {
   "cell_type": "code",
   "execution_count": 22,
   "metadata": {},
   "outputs": [],
   "source": [
    "nomad_df['🤝 Lack of racism*'] = nomad_df['🤝 Lack of racism*'].map(lambda x: str(x)[18:])"
   ]
  },
  {
   "cell_type": "code",
   "execution_count": 23,
   "metadata": {},
   "outputs": [
    {
     "data": {
      "text/plain": [
       "Bad      428\n",
       "Good     365\n",
       "Okay     312\n",
       "Great    136\n",
       "          71\n",
       "Name: 🤝 Lack of racism*, dtype: int64"
      ]
     },
     "execution_count": 23,
     "metadata": {},
     "output_type": "execute_result"
    }
   ],
   "source": [
    "nomad_df['🤝 Lack of racism*'].value_counts()"
   ]
  },
  {
   "cell_type": "code",
   "execution_count": 24,
   "metadata": {},
   "outputs": [
    {
     "data": {
      "text/plain": [
       "🎓 Education level*\\nHigh         711\n",
       "🎓 Education level*\\nMediocre     355\n",
       "🎓 Education level*\\nLow          163\n",
       "None                              41\n",
       "🎓 Education level*\\nVery high     25\n",
       "🎓 Education level*\\nVery low      17\n",
       "Name: 🎓 Education level*, dtype: int64"
      ]
     },
     "execution_count": 24,
     "metadata": {},
     "output_type": "execute_result"
    }
   ],
   "source": [
    "nomad_df['🎓 Education level*'].value_counts()"
   ]
  },
  {
   "cell_type": "code",
   "execution_count": 25,
   "metadata": {},
   "outputs": [],
   "source": [
    "nomad_df['🎓 Education level*'] = nomad_df['🎓 Education level*'].map(lambda x: str(x)[19:])"
   ]
  },
  {
   "cell_type": "code",
   "execution_count": 26,
   "metadata": {},
   "outputs": [
    {
     "data": {
      "text/plain": [
       "High         711\n",
       "Mediocre     355\n",
       "Low          163\n",
       "              41\n",
       "Very high     25\n",
       "Very low      17\n",
       "Name: 🎓 Education level*, dtype: int64"
      ]
     },
     "execution_count": 26,
     "metadata": {},
     "output_type": "execute_result"
    }
   ],
   "source": [
    "nomad_df['🎓 Education level*'].value_counts()"
   ]
  },
  {
   "cell_type": "code",
   "execution_count": 27,
   "metadata": {},
   "outputs": [
    {
     "data": {
      "text/plain": [
       "🙊 English speaking*\\nBad      469\n",
       "🙊 English speaking*\\nGreat    465\n",
       "🙊 English speaking*\\nOkay     243\n",
       "🙊 English speaking*\\nGood     134\n",
       "None                            1\n",
       "Name: 🙊 English speaking*, dtype: int64"
      ]
     },
     "execution_count": 27,
     "metadata": {},
     "output_type": "execute_result"
    }
   ],
   "source": [
    "nomad_df['🙊 English speaking*'].value_counts()"
   ]
  },
  {
   "cell_type": "code",
   "execution_count": 28,
   "metadata": {},
   "outputs": [],
   "source": [
    "nomad_df['🙊 English speaking*'] = nomad_df['🙊 English speaking*'].map(lambda x: str(x)[20:])"
   ]
  },
  {
   "cell_type": "code",
   "execution_count": 29,
   "metadata": {},
   "outputs": [
    {
     "data": {
      "text/plain": [
       "Bad      469\n",
       "Great    465\n",
       "Okay     243\n",
       "Good     134\n",
       "           1\n",
       "Name: 🙊 English speaking*, dtype: int64"
      ]
     },
     "execution_count": 29,
     "metadata": {},
     "output_type": "execute_result"
    }
   ],
   "source": [
    "nomad_df['🙊 English speaking*'].value_counts()"
   ]
  },
  {
   "cell_type": "code",
   "execution_count": 30,
   "metadata": {},
   "outputs": [
    {
     "data": {
      "text/plain": [
       "🚶 Walkability\\nGreat    821\n",
       "🚶 Walkability\\nBad      293\n",
       "🚶 Walkability\\nOkay     198\n",
       "Name: 🚶 Walkability, dtype: int64"
      ]
     },
     "execution_count": 30,
     "metadata": {},
     "output_type": "execute_result"
    }
   ],
   "source": [
    "nomad_df['🚶 Walkability'].value_counts()"
   ]
  },
  {
   "cell_type": "code",
   "execution_count": 31,
   "metadata": {},
   "outputs": [],
   "source": [
    "nomad_df['🚶 Walkability'] = nomad_df['🚶 Walkability'].map(lambda x: str(x)[14:])"
   ]
  },
  {
   "cell_type": "code",
   "execution_count": 32,
   "metadata": {},
   "outputs": [
    {
     "data": {
      "text/plain": [
       "Great    821\n",
       "Bad      293\n",
       "Okay     198\n",
       "Name: 🚶 Walkability, dtype: int64"
      ]
     },
     "execution_count": 32,
     "metadata": {},
     "output_type": "execute_result"
    }
   ],
   "source": [
    "nomad_df['🚶 Walkability'].value_counts()"
   ]
  },
  {
   "cell_type": "code",
   "execution_count": 33,
   "metadata": {},
   "outputs": [
    {
     "data": {
      "text/plain": [
       "🚦 Traffic safety*\\nOkay    855\n",
       "🚦 Traffic safety*\\nBad     457\n",
       "Name: 🚦 Traffic safety*, dtype: int64"
      ]
     },
     "execution_count": 33,
     "metadata": {},
     "output_type": "execute_result"
    }
   ],
   "source": [
    "nomad_df['🚦 Traffic safety*'].value_counts()"
   ]
  },
  {
   "cell_type": "code",
   "execution_count": 34,
   "metadata": {},
   "outputs": [],
   "source": [
    "nomad_df['🚦 Traffic safety*'] = nomad_df['🚦 Traffic safety*'].map(lambda x: str(x)[18:])"
   ]
  },
  {
   "cell_type": "code",
   "execution_count": 35,
   "metadata": {},
   "outputs": [
    {
     "data": {
      "text/plain": [
       "Okay    855\n",
       "Bad     457\n",
       "Name: 🚦 Traffic safety*, dtype: int64"
      ]
     },
     "execution_count": 35,
     "metadata": {},
     "output_type": "execute_result"
    }
   ],
   "source": [
    "nomad_df['🚦 Traffic safety*'].value_counts()"
   ]
  },
  {
   "cell_type": "code",
   "execution_count": 36,
   "metadata": {},
   "outputs": [
    {
     "data": {
      "text/plain": [
       "😄 Happiness*\\nGood     579\n",
       "😄 Happiness*\\nOkay     365\n",
       "😄 Happiness*\\nBad      188\n",
       "😄 Happiness*\\nGreat    108\n",
       "None                    72\n",
       "Name: 😄 Happiness*, dtype: int64"
      ]
     },
     "execution_count": 36,
     "metadata": {},
     "output_type": "execute_result"
    }
   ],
   "source": [
    "nomad_df['😄 Happiness*'].value_counts()"
   ]
  },
  {
   "cell_type": "code",
   "execution_count": 37,
   "metadata": {},
   "outputs": [],
   "source": [
    "nomad_df['😄 Happiness*'] = nomad_df['😄 Happiness*'].map(lambda x: str(x)[13:])"
   ]
  },
  {
   "cell_type": "code",
   "execution_count": 38,
   "metadata": {},
   "outputs": [
    {
     "data": {
      "text/plain": [
       "Good     579\n",
       "Okay     365\n",
       "Bad      188\n",
       "Great    108\n",
       "          72\n",
       "Name: 😄 Happiness*, dtype: int64"
      ]
     },
     "execution_count": 38,
     "metadata": {},
     "output_type": "execute_result"
    }
   ],
   "source": [
    "nomad_df['😄 Happiness*'].value_counts()"
   ]
  },
  {
   "cell_type": "code",
   "execution_count": 39,
   "metadata": {},
   "outputs": [
    {
     "data": {
      "text/plain": [
       "🍸 Nightlife\\nOkay     649\n",
       "🍸 Nightlife\\nBad      451\n",
       "🍸 Nightlife\\nGood     176\n",
       "🍸 Nightlife\\nGreat     34\n",
       "None                    2\n",
       "Name: 🍸 Nightlife, dtype: int64"
      ]
     },
     "execution_count": 39,
     "metadata": {},
     "output_type": "execute_result"
    }
   ],
   "source": [
    "nomad_df['🍸 Nightlife'].value_counts()"
   ]
  },
  {
   "cell_type": "code",
   "execution_count": 40,
   "metadata": {},
   "outputs": [],
   "source": [
    "nomad_df['🍸 Nightlife'] = nomad_df['🍸 Nightlife'].map(lambda x: str(x)[12:])"
   ]
  },
  {
   "cell_type": "code",
   "execution_count": 41,
   "metadata": {},
   "outputs": [
    {
     "data": {
      "text/plain": [
       "Okay     649\n",
       "Bad      451\n",
       "Good     176\n",
       "Great     34\n",
       "           2\n",
       "Name: 🍸 Nightlife, dtype: int64"
      ]
     },
     "execution_count": 41,
     "metadata": {},
     "output_type": "execute_result"
    }
   ],
   "source": [
    "nomad_df['🍸 Nightlife'].value_counts()"
   ]
  },
  {
   "cell_type": "code",
   "execution_count": 42,
   "metadata": {},
   "outputs": [
    {
     "data": {
      "text/plain": [
       "📶 Free WiFi in city\\nBad      439\n",
       "📶 Free WiFi in city\\nGood     435\n",
       "📶 Free WiFi in city\\nOkay     310\n",
       "📶 Free WiFi in city\\nGreat    111\n",
       "None                           16\n",
       "📶 Free WiFi in city             1\n",
       "Name: 📶 Free WiFi in city, dtype: int64"
      ]
     },
     "execution_count": 42,
     "metadata": {},
     "output_type": "execute_result"
    }
   ],
   "source": [
    "nomad_df['📶 Free WiFi in city'].value_counts()"
   ]
  },
  {
   "cell_type": "code",
   "execution_count": 43,
   "metadata": {},
   "outputs": [],
   "source": [
    "nomad_df['📶 Free WiFi in city'] = nomad_df['📶 Free WiFi in city'].map(lambda x: str(x)[20:])"
   ]
  },
  {
   "cell_type": "code",
   "execution_count": 44,
   "metadata": {},
   "outputs": [
    {
     "data": {
      "text/plain": [
       "Bad      439\n",
       "Good     435\n",
       "Okay     310\n",
       "Great    111\n",
       "          17\n",
       "Name: 📶 Free WiFi in city, dtype: int64"
      ]
     },
     "execution_count": 44,
     "metadata": {},
     "output_type": "execute_result"
    }
   ],
   "source": [
    "nomad_df['📶 Free WiFi in city'].value_counts()"
   ]
  },
  {
   "cell_type": "code",
   "execution_count": 45,
   "metadata": {},
   "outputs": [
    {
     "data": {
      "text/plain": [
       "🖥 Places to work from\\nGreat    729\n",
       "🖥 Places to work from\\nBad      302\n",
       "None                            133\n",
       "🖥 Places to work from\\nGood      80\n",
       "🖥 Places to work from\\nOkay      68\n",
       "Name: 🖥 Places to work from, dtype: int64"
      ]
     },
     "execution_count": 45,
     "metadata": {},
     "output_type": "execute_result"
    }
   ],
   "source": [
    "nomad_df['🖥 Places to work from'].value_counts()"
   ]
  },
  {
   "cell_type": "code",
   "execution_count": 46,
   "metadata": {},
   "outputs": [],
   "source": [
    "nomad_df['🖥 Places to work from'] = nomad_df['🖥 Places to work from'].map(lambda x: str(x)[22:])"
   ]
  },
  {
   "cell_type": "code",
   "execution_count": 47,
   "metadata": {},
   "outputs": [
    {
     "data": {
      "text/plain": [
       "Great    729\n",
       "Bad      302\n",
       "         133\n",
       "Good      80\n",
       "Okay      68\n",
       "Name: 🖥 Places to work from, dtype: int64"
      ]
     },
     "execution_count": 47,
     "metadata": {},
     "output_type": "execute_result"
    }
   ],
   "source": [
    "nomad_df['🖥 Places to work from'].value_counts()"
   ]
  },
  {
   "cell_type": "code",
   "execution_count": 48,
   "metadata": {},
   "outputs": [
    {
     "data": {
      "text/plain": [
       "❄️ A/C or heating\\nBad      353\n",
       "❄️ A/C or heating\\nOkay     327\n",
       "None                        285\n",
       "❄️ A/C or heating\\nGood     196\n",
       "❄️ A/C or heating\\nGreat    151\n",
       "Name: ❄️ A/C or heating, dtype: int64"
      ]
     },
     "execution_count": 48,
     "metadata": {},
     "output_type": "execute_result"
    }
   ],
   "source": [
    "nomad_df['❄️ A/C or heating'].value_counts()"
   ]
  },
  {
   "cell_type": "code",
   "execution_count": 49,
   "metadata": {},
   "outputs": [],
   "source": [
    "nomad_df['❄️ A/C or heating'] = nomad_df['❄️ A/C or heating'].map(lambda x: str(x)[18:])"
   ]
  },
  {
   "cell_type": "code",
   "execution_count": 50,
   "metadata": {},
   "outputs": [
    {
     "data": {
      "text/plain": [
       "Bad      353\n",
       "Okay     327\n",
       "         285\n",
       "Good     196\n",
       "Great    151\n",
       "Name: ❄️ A/C or heating, dtype: int64"
      ]
     },
     "execution_count": 50,
     "metadata": {},
     "output_type": "execute_result"
    }
   ],
   "source": [
    "nomad_df['❄️ A/C or heating'].value_counts()"
   ]
  },
  {
   "cell_type": "code",
   "execution_count": 51,
   "metadata": {},
   "outputs": [
    {
     "data": {
      "text/plain": [
       "😁 Friendly to foreigners\\nOkay     370\n",
       "😁 Friendly to foreigners\\nGood     348\n",
       "None                               275\n",
       "😁 Friendly to foreigners\\nGreat    178\n",
       "😁 Friendly to foreigners\\nBad      141\n",
       "Name: 😁 Friendly to foreigners, dtype: int64"
      ]
     },
     "execution_count": 51,
     "metadata": {},
     "output_type": "execute_result"
    }
   ],
   "source": [
    "nomad_df['😁 Friendly to foreigners'].value_counts()"
   ]
  },
  {
   "cell_type": "code",
   "execution_count": 52,
   "metadata": {},
   "outputs": [],
   "source": [
    "nomad_df['😁 Friendly to foreigners'] = nomad_df['😁 Friendly to foreigners'].map(lambda x: str(x)[25:])"
   ]
  },
  {
   "cell_type": "code",
   "execution_count": 53,
   "metadata": {},
   "outputs": [
    {
     "data": {
      "text/plain": [
       "Okay     370\n",
       "Good     348\n",
       "         275\n",
       "Great    178\n",
       "Bad      141\n",
       "Name: 😁 Friendly to foreigners, dtype: int64"
      ]
     },
     "execution_count": 53,
     "metadata": {},
     "output_type": "execute_result"
    }
   ],
   "source": [
    "nomad_df['😁 Friendly to foreigners'].value_counts()"
   ]
  },
  {
   "cell_type": "code",
   "execution_count": 54,
   "metadata": {},
   "outputs": [
    {
     "data": {
      "text/plain": [
       "🗯 Freedom of speech*\\nGood     618\n",
       "🗯 Freedom of speech*\\nOkay     259\n",
       "🗯 Freedom of speech*\\nBad      148\n",
       "🗯 Freedom of speech*\\nGreat    135\n",
       "🗯 Freedom of speech*           106\n",
       "None                            46\n",
       "Name: 🗯 Freedom of speech*, dtype: int64"
      ]
     },
     "execution_count": 54,
     "metadata": {},
     "output_type": "execute_result"
    }
   ],
   "source": [
    "nomad_df['🗯 Freedom of speech*'].value_counts()"
   ]
  },
  {
   "cell_type": "code",
   "execution_count": 55,
   "metadata": {},
   "outputs": [],
   "source": [
    "nomad_df['🗯 Freedom of speech*'] = nomad_df['🗯 Freedom of speech*'].map(lambda x: str(x)[21:])"
   ]
  },
  {
   "cell_type": "code",
   "execution_count": 56,
   "metadata": {},
   "outputs": [
    {
     "data": {
      "text/plain": [
       "Good     618\n",
       "Okay     259\n",
       "         152\n",
       "Bad      148\n",
       "Great    135\n",
       "Name: 🗯 Freedom of speech*, dtype: int64"
      ]
     },
     "execution_count": 56,
     "metadata": {},
     "output_type": "execute_result"
    }
   ],
   "source": [
    "nomad_df['🗯 Freedom of speech*'].value_counts()"
   ]
  },
  {
   "cell_type": "code",
   "execution_count": 57,
   "metadata": {},
   "outputs": [
    {
     "data": {
      "text/plain": [
       "👩 Female friendly\\nOkay     492\n",
       "👩 Female friendly\\nBad      342\n",
       "👩 Female friendly\\nGood     330\n",
       "👩 Female friendly\\nGreat    147\n",
       "👩 Female friendly             1\n",
       "Name: 👩 Female friendly, dtype: int64"
      ]
     },
     "execution_count": 57,
     "metadata": {},
     "output_type": "execute_result"
    }
   ],
   "source": [
    "nomad_df['👩 Female friendly'].value_counts()"
   ]
  },
  {
   "cell_type": "code",
   "execution_count": 58,
   "metadata": {},
   "outputs": [],
   "source": [
    "nomad_df['👩 Female friendly'] = nomad_df['👩 Female friendly'].map(lambda x: str(x)[18:])"
   ]
  },
  {
   "cell_type": "code",
   "execution_count": 59,
   "metadata": {},
   "outputs": [
    {
     "data": {
      "text/plain": [
       "Okay     492\n",
       "Bad      342\n",
       "Good     330\n",
       "Great    147\n",
       "           1\n",
       "Name: 👩 Female friendly, dtype: int64"
      ]
     },
     "execution_count": 59,
     "metadata": {},
     "output_type": "execute_result"
    }
   ],
   "source": [
    "nomad_df['👩 Female friendly'].value_counts()"
   ]
  },
  {
   "cell_type": "code",
   "execution_count": 60,
   "metadata": {},
   "outputs": [
    {
     "data": {
      "text/plain": [
       "🌈 LGBTQ+ friendly\\nGreat    653\n",
       "🌈 LGBTQ+ friendly\\nBad      494\n",
       "🌈 LGBTQ+ friendly\\nOkay     127\n",
       "🌈 LGBTQ+ friendly\\nGood      38\n",
       "Name: 🌈 LGBTQ+ friendly, dtype: int64"
      ]
     },
     "execution_count": 60,
     "metadata": {},
     "output_type": "execute_result"
    }
   ],
   "source": [
    "nomad_df['🌈 LGBTQ+ friendly'].value_counts()"
   ]
  },
  {
   "cell_type": "code",
   "execution_count": 61,
   "metadata": {},
   "outputs": [],
   "source": [
    "nomad_df['🌈 LGBTQ+ friendly'] = nomad_df['🌈 LGBTQ+ friendly'].map(lambda x: str(x)[18:])"
   ]
  },
  {
   "cell_type": "code",
   "execution_count": 62,
   "metadata": {},
   "outputs": [
    {
     "data": {
      "text/plain": [
       "Great    653\n",
       "Bad      494\n",
       "Okay     127\n",
       "Good      38\n",
       "Name: 🌈 LGBTQ+ friendly, dtype: int64"
      ]
     },
     "execution_count": 62,
     "metadata": {},
     "output_type": "execute_result"
    }
   ],
   "source": [
    "nomad_df['🌈 LGBTQ+ friendly'].value_counts()"
   ]
  },
  {
   "cell_type": "code",
   "execution_count": 63,
   "metadata": {},
   "outputs": [
    {
     "data": {
      "text/plain": [
       "🎅 Startup Score\\nOkay    726\n",
       "🎅 Startup Score\\nBad     569\n",
       "🎅 Startup Score\\nGood     17\n",
       "Name: 🎅 Startup Score, dtype: int64"
      ]
     },
     "execution_count": 63,
     "metadata": {},
     "output_type": "execute_result"
    }
   ],
   "source": [
    "nomad_df['🎅 Startup Score'].value_counts()"
   ]
  },
  {
   "cell_type": "code",
   "execution_count": 64,
   "metadata": {},
   "outputs": [],
   "source": [
    "nomad_df['🎅 Startup Score'] = nomad_df['🎅 Startup Score'].map(lambda x: str(x)[16:])"
   ]
  },
  {
   "cell_type": "code",
   "execution_count": 65,
   "metadata": {},
   "outputs": [
    {
     "data": {
      "text/plain": [
       "Okay    726\n",
       "Bad     569\n",
       "Good     17\n",
       "Name: 🎅 Startup Score, dtype: int64"
      ]
     },
     "execution_count": 65,
     "metadata": {},
     "output_type": "execute_result"
    }
   ],
   "source": [
    "nomad_df['🎅 Startup Score'].value_counts()"
   ]
  },
  {
   "cell_type": "code",
   "execution_count": 66,
   "metadata": {},
   "outputs": [
    {
     "data": {
      "text/html": [
       "<div>\n",
       "<style scoped>\n",
       "    .dataframe tbody tr th:only-of-type {\n",
       "        vertical-align: middle;\n",
       "    }\n",
       "\n",
       "    .dataframe tbody tr th {\n",
       "        vertical-align: top;\n",
       "    }\n",
       "\n",
       "    .dataframe thead th {\n",
       "        text-align: right;\n",
       "    }\n",
       "</style>\n",
       "<table border=\"1\" class=\"dataframe\">\n",
       "  <thead>\n",
       "    <tr style=\"text-align: right;\">\n",
       "      <th></th>\n",
       "      <th>Rank</th>\n",
       "      <th>City</th>\n",
       "      <th>⭐️ Total score</th>\n",
       "      <th>👍 Quality of life score</th>\n",
       "      <th>👶 Family score</th>\n",
       "      <th>💵 Cost</th>\n",
       "      <th>📡 Internet</th>\n",
       "      <th>😝 Fun</th>\n",
       "      <th>💨 Air quality (annual)</th>\n",
       "      <th>👮‍♀️ Lack of crime*</th>\n",
       "      <th>🤝 Lack of racism*</th>\n",
       "      <th>🎓 Education level*</th>\n",
       "      <th>💰 Income level*</th>\n",
       "      <th>🙊 English speaking*</th>\n",
       "      <th>🚶 Walkability</th>\n",
       "      <th>🚦 Traffic safety*</th>\n",
       "      <th>😄 Happiness*</th>\n",
       "      <th>🍸 Nightlife</th>\n",
       "      <th>📶 Free WiFi in city</th>\n",
       "      <th>🖥 Places to work from</th>\n",
       "      <th>❄️ A/C or heating</th>\n",
       "      <th>😁 Friendly to foreigners</th>\n",
       "      <th>🗯 Freedom of speech*</th>\n",
       "      <th>👩 Female friendly</th>\n",
       "      <th>🌈 LGBTQ+ friendly</th>\n",
       "      <th>🎅 Startup Score</th>\n",
       "    </tr>\n",
       "  </thead>\n",
       "  <tbody>\n",
       "    <tr>\n",
       "      <th>0</th>\n",
       "      <td>0</td>\n",
       "      <td>Lisbon</td>\n",
       "      <td>4.8</td>\n",
       "      <td>Good</td>\n",
       "      <td>Good</td>\n",
       "      <td>💵 Cost\\n😙 Affordable: $2,082 / mo</td>\n",
       "      <td>📡 Internet\\n🏎 Fast: 26Mbps (avg)</td>\n",
       "      <td>Great</td>\n",
       "      <td>💨 Air quality (annual)\\n🌱 Great: 32 US AQI</td>\n",
       "      <td>Great</td>\n",
       "      <td>Okay</td>\n",
       "      <td>Mediocre</td>\n",
       "      <td>💰 Income level*\\nLow: $1,646 / mo</td>\n",
       "      <td>Great</td>\n",
       "      <td>Great</td>\n",
       "      <td>Okay</td>\n",
       "      <td>Okay</td>\n",
       "      <td>Okay</td>\n",
       "      <td>Okay</td>\n",
       "      <td>Great</td>\n",
       "      <td>Okay</td>\n",
       "      <td>Good</td>\n",
       "      <td>Good</td>\n",
       "      <td>Good</td>\n",
       "      <td>Great</td>\n",
       "      <td>Okay</td>\n",
       "    </tr>\n",
       "    <tr>\n",
       "      <th>1</th>\n",
       "      <td>1</td>\n",
       "      <td>Cape Town</td>\n",
       "      <td>4.6</td>\n",
       "      <td>Good</td>\n",
       "      <td>Good</td>\n",
       "      <td>💵 Cost\\n😙 Affordable: $1,692 / mo</td>\n",
       "      <td>📡 Internet\\n🙂 Good: 8Mbps (avg)</td>\n",
       "      <td>Good</td>\n",
       "      <td>💨 Air quality (annual)\\n🌱 Great: 16 US AQI</td>\n",
       "      <td>Very bad</td>\n",
       "      <td>Okay</td>\n",
       "      <td>Mediocre</td>\n",
       "      <td>💰 Income level*\\nVery low: $425 / mo</td>\n",
       "      <td>Great</td>\n",
       "      <td>Great</td>\n",
       "      <td>Bad</td>\n",
       "      <td>Bad</td>\n",
       "      <td>Good</td>\n",
       "      <td>Good</td>\n",
       "      <td>Great</td>\n",
       "      <td>Bad</td>\n",
       "      <td>Good</td>\n",
       "      <td>Good</td>\n",
       "      <td>Okay</td>\n",
       "      <td>Great</td>\n",
       "      <td>Okay</td>\n",
       "    </tr>\n",
       "    <tr>\n",
       "      <th>2</th>\n",
       "      <td>2</td>\n",
       "      <td>Porto</td>\n",
       "      <td>4.5</td>\n",
       "      <td>Good</td>\n",
       "      <td>Good</td>\n",
       "      <td>💵 Cost\\n😙 Affordable: $1,945 / mo</td>\n",
       "      <td>📡 Internet\\n🏎 Fast: 33Mbps (avg)</td>\n",
       "      <td>Good</td>\n",
       "      <td>💨 Air quality (annual)\\n🌱 Great: 11 US AQI</td>\n",
       "      <td>Great</td>\n",
       "      <td>Okay</td>\n",
       "      <td>Mediocre</td>\n",
       "      <td>💰 Income level*\\nLow: $1,646 / mo</td>\n",
       "      <td>Good</td>\n",
       "      <td>Bad</td>\n",
       "      <td>Okay</td>\n",
       "      <td>Okay</td>\n",
       "      <td>Okay</td>\n",
       "      <td>Good</td>\n",
       "      <td>Great</td>\n",
       "      <td>Great</td>\n",
       "      <td>Good</td>\n",
       "      <td>Good</td>\n",
       "      <td>Good</td>\n",
       "      <td>Great</td>\n",
       "      <td>Okay</td>\n",
       "    </tr>\n",
       "    <tr>\n",
       "      <th>3</th>\n",
       "      <td>3</td>\n",
       "      <td>Madeira</td>\n",
       "      <td>4.5</td>\n",
       "      <td>Good</td>\n",
       "      <td>Good</td>\n",
       "      <td>💵 Cost\\n😙 Affordable: $2,059 / mo</td>\n",
       "      <td>📡 Internet\\n🏎 Fast: 38Mbps (avg)</td>\n",
       "      <td>Good</td>\n",
       "      <td>None</td>\n",
       "      <td>Great</td>\n",
       "      <td>Okay</td>\n",
       "      <td>Mediocre</td>\n",
       "      <td>💰 Income level*\\nLow: $1,646 / mo</td>\n",
       "      <td>Good</td>\n",
       "      <td>Bad</td>\n",
       "      <td>Okay</td>\n",
       "      <td>Okay</td>\n",
       "      <td>Okay</td>\n",
       "      <td>Great</td>\n",
       "      <td>Great</td>\n",
       "      <td>Okay</td>\n",
       "      <td>Great</td>\n",
       "      <td>Good</td>\n",
       "      <td>Good</td>\n",
       "      <td>Great</td>\n",
       "      <td>Okay</td>\n",
       "    </tr>\n",
       "    <tr>\n",
       "      <th>4</th>\n",
       "      <td>4</td>\n",
       "      <td>Las Palmas, Canary Islands</td>\n",
       "      <td>4.5</td>\n",
       "      <td>Good</td>\n",
       "      <td>Good</td>\n",
       "      <td>💵 Cost\\n😙 Affordable: $2,298 / mo</td>\n",
       "      <td>📡 Internet\\n🏎 Fast: 25Mbps (avg)</td>\n",
       "      <td>Good</td>\n",
       "      <td>💨 Air quality (annual)\\n🌱 Great: 38 US AQI</td>\n",
       "      <td>Great</td>\n",
       "      <td>Okay</td>\n",
       "      <td>High</td>\n",
       "      <td>💰 Income level*\\nMediocre: $2,225 / mo</td>\n",
       "      <td>Okay</td>\n",
       "      <td>Great</td>\n",
       "      <td>Okay</td>\n",
       "      <td>Good</td>\n",
       "      <td>Good</td>\n",
       "      <td>Okay</td>\n",
       "      <td>Great</td>\n",
       "      <td>Okay</td>\n",
       "      <td>Good</td>\n",
       "      <td>Good</td>\n",
       "      <td>Good</td>\n",
       "      <td>Great</td>\n",
       "      <td>Okay</td>\n",
       "    </tr>\n",
       "    <tr>\n",
       "      <th>...</th>\n",
       "      <td>...</td>\n",
       "      <td>...</td>\n",
       "      <td>...</td>\n",
       "      <td>...</td>\n",
       "      <td>...</td>\n",
       "      <td>...</td>\n",
       "      <td>...</td>\n",
       "      <td>...</td>\n",
       "      <td>...</td>\n",
       "      <td>...</td>\n",
       "      <td>...</td>\n",
       "      <td>...</td>\n",
       "      <td>...</td>\n",
       "      <td>...</td>\n",
       "      <td>...</td>\n",
       "      <td>...</td>\n",
       "      <td>...</td>\n",
       "      <td>...</td>\n",
       "      <td>...</td>\n",
       "      <td>...</td>\n",
       "      <td>...</td>\n",
       "      <td>...</td>\n",
       "      <td>...</td>\n",
       "      <td>...</td>\n",
       "      <td>...</td>\n",
       "      <td>...</td>\n",
       "    </tr>\n",
       "    <tr>\n",
       "      <th>1307</th>\n",
       "      <td>1338</td>\n",
       "      <td>Ramallah</td>\n",
       "      <td>2.0</td>\n",
       "      <td>Okay</td>\n",
       "      <td>Okay</td>\n",
       "      <td>💵 Cost\\n😳 Way too expensive: $5,474 / mo</td>\n",
       "      <td>📡 Internet\\n🙂 Good: 6Mbps (avg)</td>\n",
       "      <td>Bad</td>\n",
       "      <td>💨 Air quality (annual)\\n🌱 Good: 62 US AQI</td>\n",
       "      <td>Great</td>\n",
       "      <td>Good</td>\n",
       "      <td></td>\n",
       "      <td>💰 Income level*\\nVery low: $233 / mo</td>\n",
       "      <td>Okay</td>\n",
       "      <td>Bad</td>\n",
       "      <td>Okay</td>\n",
       "      <td></td>\n",
       "      <td>Good</td>\n",
       "      <td>Bad</td>\n",
       "      <td>Okay</td>\n",
       "      <td>Okay</td>\n",
       "      <td>Good</td>\n",
       "      <td>Okay</td>\n",
       "      <td>Okay</td>\n",
       "      <td>Bad</td>\n",
       "      <td>Bad</td>\n",
       "    </tr>\n",
       "    <tr>\n",
       "      <th>1308</th>\n",
       "      <td>1339</td>\n",
       "      <td>Homs</td>\n",
       "      <td>1.9</td>\n",
       "      <td>Bad</td>\n",
       "      <td>Bad</td>\n",
       "      <td>💵 Cost\\n😙 Affordable: $1,241 / mo</td>\n",
       "      <td>📡 Internet\\n🤬 Unusably slow: 1Mbps (avg)</td>\n",
       "      <td>Bad</td>\n",
       "      <td>None</td>\n",
       "      <td>Good</td>\n",
       "      <td>Bad</td>\n",
       "      <td>Mediocre</td>\n",
       "      <td>💰 Income level*\\nVery low: $100 / mo</td>\n",
       "      <td>Bad</td>\n",
       "      <td>Great</td>\n",
       "      <td>Bad</td>\n",
       "      <td>Bad</td>\n",
       "      <td>Bad</td>\n",
       "      <td>Bad</td>\n",
       "      <td>Bad</td>\n",
       "      <td>Bad</td>\n",
       "      <td>Bad</td>\n",
       "      <td></td>\n",
       "      <td>Bad</td>\n",
       "      <td>Bad</td>\n",
       "      <td>Bad</td>\n",
       "    </tr>\n",
       "    <tr>\n",
       "      <th>1309</th>\n",
       "      <td>1341</td>\n",
       "      <td>Monrovia</td>\n",
       "      <td>1.9</td>\n",
       "      <td>Bad</td>\n",
       "      <td>Bad</td>\n",
       "      <td>💵 Cost\\n😳 Way too expensive: $5,506 / mo</td>\n",
       "      <td>📡 Internet\\n🙂 Good: 9Mbps (avg)</td>\n",
       "      <td>Bad</td>\n",
       "      <td>None</td>\n",
       "      <td>Good</td>\n",
       "      <td>Bad</td>\n",
       "      <td>Very low</td>\n",
       "      <td>💰 Income level*\\nVery low: $50 / mo</td>\n",
       "      <td>Bad</td>\n",
       "      <td>Bad</td>\n",
       "      <td>Bad</td>\n",
       "      <td>Bad</td>\n",
       "      <td>Okay</td>\n",
       "      <td>Bad</td>\n",
       "      <td>Great</td>\n",
       "      <td>Bad</td>\n",
       "      <td>Okay</td>\n",
       "      <td>Okay</td>\n",
       "      <td>Bad</td>\n",
       "      <td>Bad</td>\n",
       "      <td>Bad</td>\n",
       "    </tr>\n",
       "    <tr>\n",
       "      <th>1310</th>\n",
       "      <td>1343</td>\n",
       "      <td>Hama</td>\n",
       "      <td>1.8</td>\n",
       "      <td>Bad</td>\n",
       "      <td>Bad</td>\n",
       "      <td>💵 Cost\\n😙 Affordable: $1,950 / mo</td>\n",
       "      <td>📡 Internet\\n😡 Slow: 2Mbps (avg)</td>\n",
       "      <td>Bad</td>\n",
       "      <td>None</td>\n",
       "      <td>Good</td>\n",
       "      <td>Bad</td>\n",
       "      <td>Mediocre</td>\n",
       "      <td>💰 Income level*\\nVery low: $100 / mo</td>\n",
       "      <td>Bad</td>\n",
       "      <td>Bad</td>\n",
       "      <td>Bad</td>\n",
       "      <td>Bad</td>\n",
       "      <td>Bad</td>\n",
       "      <td>Bad</td>\n",
       "      <td>Bad</td>\n",
       "      <td>Bad</td>\n",
       "      <td>Bad</td>\n",
       "      <td></td>\n",
       "      <td>Bad</td>\n",
       "      <td>Bad</td>\n",
       "      <td>Bad</td>\n",
       "    </tr>\n",
       "    <tr>\n",
       "      <th>1311</th>\n",
       "      <td>1344</td>\n",
       "      <td>Yangzhou</td>\n",
       "      <td>1.7</td>\n",
       "      <td>Okay</td>\n",
       "      <td>Bad</td>\n",
       "      <td>💵 Cost\\n🧐 Too expensive: $4,691 / mo</td>\n",
       "      <td>📡 Internet\\n🤬 Unusably slow: 1Mbps (avg)</td>\n",
       "      <td>Bad</td>\n",
       "      <td>💨 Air quality (annual)\\n😷 Unhealthy for some: ...</td>\n",
       "      <td>Great</td>\n",
       "      <td>Bad</td>\n",
       "      <td>Mediocre</td>\n",
       "      <td>💰 Income level*\\nVery low: $677 / mo</td>\n",
       "      <td>Bad</td>\n",
       "      <td>Great</td>\n",
       "      <td>Bad</td>\n",
       "      <td>Okay</td>\n",
       "      <td>Bad</td>\n",
       "      <td>Bad</td>\n",
       "      <td>Good</td>\n",
       "      <td>Okay</td>\n",
       "      <td>Okay</td>\n",
       "      <td></td>\n",
       "      <td>Okay</td>\n",
       "      <td>Bad</td>\n",
       "      <td>Bad</td>\n",
       "    </tr>\n",
       "  </tbody>\n",
       "</table>\n",
       "<p>1312 rows × 26 columns</p>\n",
       "</div>"
      ],
      "text/plain": [
       "      Rank                        City ⭐️ Total score 👍 Quality of life score  \\\n",
       "0        0                      Lisbon            4.8                    Good   \n",
       "1        1                   Cape Town            4.6                    Good   \n",
       "2        2                       Porto            4.5                    Good   \n",
       "3        3                     Madeira            4.5                    Good   \n",
       "4        4  Las Palmas, Canary Islands            4.5                    Good   \n",
       "...    ...                         ...            ...                     ...   \n",
       "1307  1338                    Ramallah            2.0                    Okay   \n",
       "1308  1339                        Homs            1.9                     Bad   \n",
       "1309  1341                    Monrovia            1.9                     Bad   \n",
       "1310  1343                        Hama            1.8                     Bad   \n",
       "1311  1344                    Yangzhou            1.7                    Okay   \n",
       "\n",
       "     👶 Family score                                    💵 Cost  \\\n",
       "0              Good         💵 Cost\\n😙 Affordable: $2,082 / mo   \n",
       "1              Good         💵 Cost\\n😙 Affordable: $1,692 / mo   \n",
       "2              Good         💵 Cost\\n😙 Affordable: $1,945 / mo   \n",
       "3              Good         💵 Cost\\n😙 Affordable: $2,059 / mo   \n",
       "4              Good         💵 Cost\\n😙 Affordable: $2,298 / mo   \n",
       "...             ...                                       ...   \n",
       "1307           Okay  💵 Cost\\n😳 Way too expensive: $5,474 / mo   \n",
       "1308            Bad         💵 Cost\\n😙 Affordable: $1,241 / mo   \n",
       "1309            Bad  💵 Cost\\n😳 Way too expensive: $5,506 / mo   \n",
       "1310            Bad         💵 Cost\\n😙 Affordable: $1,950 / mo   \n",
       "1311            Bad      💵 Cost\\n🧐 Too expensive: $4,691 / mo   \n",
       "\n",
       "                                    📡 Internet  😝 Fun  \\\n",
       "0             📡 Internet\\n🏎 Fast: 26Mbps (avg)  Great   \n",
       "1              📡 Internet\\n🙂 Good: 8Mbps (avg)   Good   \n",
       "2             📡 Internet\\n🏎 Fast: 33Mbps (avg)   Good   \n",
       "3             📡 Internet\\n🏎 Fast: 38Mbps (avg)   Good   \n",
       "4             📡 Internet\\n🏎 Fast: 25Mbps (avg)   Good   \n",
       "...                                        ...    ...   \n",
       "1307           📡 Internet\\n🙂 Good: 6Mbps (avg)    Bad   \n",
       "1308  📡 Internet\\n🤬 Unusably slow: 1Mbps (avg)    Bad   \n",
       "1309           📡 Internet\\n🙂 Good: 9Mbps (avg)    Bad   \n",
       "1310           📡 Internet\\n😡 Slow: 2Mbps (avg)    Bad   \n",
       "1311  📡 Internet\\n🤬 Unusably slow: 1Mbps (avg)    Bad   \n",
       "\n",
       "                                 💨 Air quality (annual) 👮‍♀️ Lack of crime*  \\\n",
       "0            💨 Air quality (annual)\\n🌱 Great: 32 US AQI               Great   \n",
       "1            💨 Air quality (annual)\\n🌱 Great: 16 US AQI            Very bad   \n",
       "2            💨 Air quality (annual)\\n🌱 Great: 11 US AQI               Great   \n",
       "3                                                  None               Great   \n",
       "4            💨 Air quality (annual)\\n🌱 Great: 38 US AQI               Great   \n",
       "...                                                 ...                 ...   \n",
       "1307          💨 Air quality (annual)\\n🌱 Good: 62 US AQI               Great   \n",
       "1308                                               None                Good   \n",
       "1309                                               None                Good   \n",
       "1310                                               None                Good   \n",
       "1311  💨 Air quality (annual)\\n😷 Unhealthy for some: ...               Great   \n",
       "\n",
       "     🤝 Lack of racism* 🎓 Education level*  \\\n",
       "0                 Okay           Mediocre   \n",
       "1                 Okay           Mediocre   \n",
       "2                 Okay           Mediocre   \n",
       "3                 Okay           Mediocre   \n",
       "4                 Okay               High   \n",
       "...                ...                ...   \n",
       "1307              Good                      \n",
       "1308               Bad           Mediocre   \n",
       "1309               Bad           Very low   \n",
       "1310               Bad           Mediocre   \n",
       "1311               Bad           Mediocre   \n",
       "\n",
       "                             💰 Income level* 🙊 English speaking*  \\\n",
       "0          💰 Income level*\\nLow: $1,646 / mo               Great   \n",
       "1       💰 Income level*\\nVery low: $425 / mo               Great   \n",
       "2          💰 Income level*\\nLow: $1,646 / mo                Good   \n",
       "3          💰 Income level*\\nLow: $1,646 / mo                Good   \n",
       "4     💰 Income level*\\nMediocre: $2,225 / mo                Okay   \n",
       "...                                      ...                 ...   \n",
       "1307    💰 Income level*\\nVery low: $233 / mo                Okay   \n",
       "1308    💰 Income level*\\nVery low: $100 / mo                 Bad   \n",
       "1309     💰 Income level*\\nVery low: $50 / mo                 Bad   \n",
       "1310    💰 Income level*\\nVery low: $100 / mo                 Bad   \n",
       "1311    💰 Income level*\\nVery low: $677 / mo                 Bad   \n",
       "\n",
       "     🚶 Walkability 🚦 Traffic safety* 😄 Happiness* 🍸 Nightlife  \\\n",
       "0            Great              Okay         Okay        Okay   \n",
       "1            Great               Bad          Bad        Good   \n",
       "2              Bad              Okay         Okay        Okay   \n",
       "3              Bad              Okay         Okay        Okay   \n",
       "4            Great              Okay         Good        Good   \n",
       "...            ...               ...          ...         ...   \n",
       "1307           Bad              Okay                     Good   \n",
       "1308         Great               Bad          Bad         Bad   \n",
       "1309           Bad               Bad          Bad        Okay   \n",
       "1310           Bad               Bad          Bad         Bad   \n",
       "1311         Great               Bad         Okay         Bad   \n",
       "\n",
       "     📶 Free WiFi in city 🖥 Places to work from ❄️ A/C or heating  \\\n",
       "0                   Okay                 Great              Okay   \n",
       "1                   Good                 Great               Bad   \n",
       "2                   Good                 Great             Great   \n",
       "3                  Great                 Great              Okay   \n",
       "4                   Okay                 Great              Okay   \n",
       "...                  ...                   ...               ...   \n",
       "1307                 Bad                  Okay              Okay   \n",
       "1308                 Bad                   Bad               Bad   \n",
       "1309                 Bad                 Great               Bad   \n",
       "1310                 Bad                   Bad               Bad   \n",
       "1311                 Bad                  Good              Okay   \n",
       "\n",
       "     😁 Friendly to foreigners 🗯 Freedom of speech* 👩 Female friendly  \\\n",
       "0                        Good                 Good              Good   \n",
       "1                        Good                 Good              Okay   \n",
       "2                        Good                 Good              Good   \n",
       "3                       Great                 Good              Good   \n",
       "4                        Good                 Good              Good   \n",
       "...                       ...                  ...               ...   \n",
       "1307                     Good                 Okay              Okay   \n",
       "1308                      Bad                                    Bad   \n",
       "1309                     Okay                 Okay               Bad   \n",
       "1310                      Bad                                    Bad   \n",
       "1311                     Okay                                   Okay   \n",
       "\n",
       "     🌈 LGBTQ+ friendly 🎅 Startup Score  \n",
       "0                Great            Okay  \n",
       "1                Great            Okay  \n",
       "2                Great            Okay  \n",
       "3                Great            Okay  \n",
       "4                Great            Okay  \n",
       "...                ...             ...  \n",
       "1307               Bad             Bad  \n",
       "1308               Bad             Bad  \n",
       "1309               Bad             Bad  \n",
       "1310               Bad             Bad  \n",
       "1311               Bad             Bad  \n",
       "\n",
       "[1312 rows x 26 columns]"
      ]
     },
     "execution_count": 66,
     "metadata": {},
     "output_type": "execute_result"
    }
   ],
   "source": [
    "nomad_df"
   ]
  },
  {
   "cell_type": "code",
   "execution_count": 67,
   "metadata": {},
   "outputs": [],
   "source": [
    "# columns to extract only numbers: '💵 Cost' , '📡 Internet' '💨 Air quality (annual)' '💰 Income level*' "
   ]
  },
  {
   "cell_type": "code",
   "execution_count": 68,
   "metadata": {},
   "outputs": [
    {
     "data": {
      "text/html": [
       "<div>\n",
       "<style scoped>\n",
       "    .dataframe tbody tr th:only-of-type {\n",
       "        vertical-align: middle;\n",
       "    }\n",
       "\n",
       "    .dataframe tbody tr th {\n",
       "        vertical-align: top;\n",
       "    }\n",
       "\n",
       "    .dataframe thead th {\n",
       "        text-align: right;\n",
       "    }\n",
       "</style>\n",
       "<table border=\"1\" class=\"dataframe\">\n",
       "  <thead>\n",
       "    <tr style=\"text-align: right;\">\n",
       "      <th></th>\n",
       "      <th>💵 Cost</th>\n",
       "      <th>📡 Internet</th>\n",
       "      <th>💨 Air quality (annual)</th>\n",
       "      <th>💰 Income level*</th>\n",
       "    </tr>\n",
       "  </thead>\n",
       "  <tbody>\n",
       "    <tr>\n",
       "      <th>0</th>\n",
       "      <td>2,082</td>\n",
       "      <td>26</td>\n",
       "      <td>32</td>\n",
       "      <td>1,646</td>\n",
       "    </tr>\n",
       "    <tr>\n",
       "      <th>1</th>\n",
       "      <td>1,692</td>\n",
       "      <td>8</td>\n",
       "      <td>16</td>\n",
       "      <td>425 /</td>\n",
       "    </tr>\n",
       "    <tr>\n",
       "      <th>2</th>\n",
       "      <td>1,945</td>\n",
       "      <td>33</td>\n",
       "      <td>11</td>\n",
       "      <td>1,646</td>\n",
       "    </tr>\n",
       "    <tr>\n",
       "      <th>3</th>\n",
       "      <td>2,059</td>\n",
       "      <td>38</td>\n",
       "      <td>NaN</td>\n",
       "      <td>1,646</td>\n",
       "    </tr>\n",
       "    <tr>\n",
       "      <th>4</th>\n",
       "      <td>2,298</td>\n",
       "      <td>25</td>\n",
       "      <td>38</td>\n",
       "      <td>2,225</td>\n",
       "    </tr>\n",
       "    <tr>\n",
       "      <th>...</th>\n",
       "      <td>...</td>\n",
       "      <td>...</td>\n",
       "      <td>...</td>\n",
       "      <td>...</td>\n",
       "    </tr>\n",
       "    <tr>\n",
       "      <th>1307</th>\n",
       "      <td>5,474</td>\n",
       "      <td>6</td>\n",
       "      <td>62</td>\n",
       "      <td>233 /</td>\n",
       "    </tr>\n",
       "    <tr>\n",
       "      <th>1308</th>\n",
       "      <td>1,241</td>\n",
       "      <td>1</td>\n",
       "      <td>NaN</td>\n",
       "      <td>100 /</td>\n",
       "    </tr>\n",
       "    <tr>\n",
       "      <th>1309</th>\n",
       "      <td>5,506</td>\n",
       "      <td>9</td>\n",
       "      <td>NaN</td>\n",
       "      <td>50 /</td>\n",
       "    </tr>\n",
       "    <tr>\n",
       "      <th>1310</th>\n",
       "      <td>1,950</td>\n",
       "      <td>2</td>\n",
       "      <td>NaN</td>\n",
       "      <td>100 /</td>\n",
       "    </tr>\n",
       "    <tr>\n",
       "      <th>1311</th>\n",
       "      <td>4,691</td>\n",
       "      <td>1</td>\n",
       "      <td>103</td>\n",
       "      <td>677 /</td>\n",
       "    </tr>\n",
       "  </tbody>\n",
       "</table>\n",
       "<p>1312 rows × 4 columns</p>\n",
       "</div>"
      ],
      "text/plain": [
       "     💵 Cost 📡 Internet 💨 Air quality (annual) 💰 Income level*\n",
       "0     2,082         26                    32            1,646\n",
       "1     1,692          8                    16           425 / \n",
       "2     1,945         33                    11            1,646\n",
       "3     2,059         38                    NaN           1,646\n",
       "4     2,298         25                    38            2,225\n",
       "...     ...        ...                    ...             ...\n",
       "1307  5,474          6                    62           233 / \n",
       "1308  1,241          1                    NaN          100 / \n",
       "1309  5,506          9                    NaN           50 / \n",
       "1310  1,950          2                    NaN          100 / \n",
       "1311  4,691          1                   103           677 / \n",
       "\n",
       "[1312 rows x 4 columns]"
      ]
     },
     "execution_count": 68,
     "metadata": {},
     "output_type": "execute_result"
    }
   ],
   "source": [
    "nomad_df['💵 Cost'] = nomad_df['💵 Cost'].str.extract('(\\d+\\W*\\d*)')\n",
    "nomad_df['📡 Internet'] = nomad_df['📡 Internet'].str.extract('(\\d+\\W*\\d*)')\n",
    "nomad_df['💨 Air quality (annual)'] = nomad_df['💨 Air quality (annual)'].str.extract('(\\d+\\W*\\d*)')\n",
    "nomad_df['💰 Income level*'] = nomad_df['💰 Income level*'].str.extract('(\\d+\\W*\\d*)')\n",
    "\n",
    "nomad_df[['💵 Cost' , '📡 Internet', '💨 Air quality (annual)', '💰 Income level*']]"
   ]
  },
  {
   "cell_type": "code",
   "execution_count": 69,
   "metadata": {},
   "outputs": [],
   "source": [
    "# replace ' / '\n",
    "nomad_df['💰 Income level*']=nomad_df['💰 Income level*'].str.replace('/', '')"
   ]
  },
  {
   "cell_type": "code",
   "execution_count": 70,
   "metadata": {},
   "outputs": [
    {
     "data": {
      "text/plain": [
       "Index(['Rank', 'City', '⭐️ Total score', '👍 Quality of life score',\n",
       "       '👶 Family score', '💵 Cost', '📡 Internet', '😝 Fun',\n",
       "       '💨 Air quality (annual)', '👮‍♀️ Lack of crime*', '🤝 Lack of racism*',\n",
       "       '🎓 Education level*', '💰 Income level*', '🙊 English speaking*',\n",
       "       '🚶 Walkability', '🚦 Traffic safety*', '😄 Happiness*', '🍸 Nightlife',\n",
       "       '📶 Free WiFi in city', '🖥 Places to work from', '❄️ A/C or heating',\n",
       "       '😁 Friendly to foreigners', '🗯 Freedom of speech*', '👩 Female friendly',\n",
       "       '🌈 LGBTQ+ friendly', '🎅 Startup Score'],\n",
       "      dtype='object')"
      ]
     },
     "execution_count": 70,
     "metadata": {},
     "output_type": "execute_result"
    }
   ],
   "source": [
    "nomad_df.columns"
   ]
  },
  {
   "cell_type": "code",
   "execution_count": 71,
   "metadata": {},
   "outputs": [
    {
     "data": {
      "text/plain": [
       "Index(['rank', 'city', 'total_score', 'life_quality', 'family_score', 'cost',\n",
       "       'internet', 'fun', 'air', 'crime', 'racism', 'Education', 'income',\n",
       "       'speak_english', 'walkability', 'traffic_safety', 'happiness',\n",
       "       'nightlife', 'free_wifi', 'coworking_places', 'ac_heating',\n",
       "       'foreigner frendly', 'speech_freedom', 'female_frendly',\n",
       "       'lgbtq_plus_friendly', 'startup_score'],\n",
       "      dtype='object')"
      ]
     },
     "execution_count": 71,
     "metadata": {},
     "output_type": "execute_result"
    }
   ],
   "source": [
    "#rename columns\n",
    "colnames = {'Rank': 'rank', 'City': 'city', '⭐️ Total score': 'total_score', '👍 Quality of life score': 'life_quality',\n",
    "       '👶 Family score': 'family_score', '💵 Cost': 'cost', '📡 Internet': 'internet', '😝 Fun': 'fun',\n",
    "       '💨 Air quality (annual)': 'air', '👮‍♀️ Lack of crime*': 'crime', '🤝 Lack of racism*': 'racism',\n",
    "       '🎓 Education level*': 'Education', '💰 Income level*': 'income', '🙊 English speaking*': 'speak_english',\n",
    "       '🚶 Walkability': 'walkability', '🚦 Traffic safety*': 'traffic_safety', '😄 Happiness*': 'happiness', '🍸 Nightlife': 'nightlife',\n",
    "       '📶 Free WiFi in city': 'free_wifi', '🖥 Places to work from': 'coworking_places', '❄️ A/C or heating': 'ac_heating',\n",
    "       '😁 Friendly to foreigners': 'foreigner frendly', '🗯 Freedom of speech*': 'speech_freedom', '👩 Female friendly': 'female_frendly',\n",
    "       '🌈 LGBTQ+ friendly': 'lgbtq_plus_friendly', '🎅 Startup Score': 'startup_score'}\n",
    "\n",
    "nomad_df.rename(columns=colnames, inplace=True)\n",
    "nomad_df.columns"
   ]
  },
  {
   "cell_type": "code",
   "execution_count": 72,
   "metadata": {},
   "outputs": [
    {
     "data": {
      "text/html": [
       "<div>\n",
       "<style scoped>\n",
       "    .dataframe tbody tr th:only-of-type {\n",
       "        vertical-align: middle;\n",
       "    }\n",
       "\n",
       "    .dataframe tbody tr th {\n",
       "        vertical-align: top;\n",
       "    }\n",
       "\n",
       "    .dataframe thead th {\n",
       "        text-align: right;\n",
       "    }\n",
       "</style>\n",
       "<table border=\"1\" class=\"dataframe\">\n",
       "  <thead>\n",
       "    <tr style=\"text-align: right;\">\n",
       "      <th></th>\n",
       "      <th>rank</th>\n",
       "      <th>city</th>\n",
       "      <th>total_score</th>\n",
       "      <th>life_quality</th>\n",
       "      <th>family_score</th>\n",
       "      <th>cost</th>\n",
       "      <th>internet</th>\n",
       "      <th>fun</th>\n",
       "      <th>air</th>\n",
       "      <th>crime</th>\n",
       "      <th>racism</th>\n",
       "      <th>Education</th>\n",
       "      <th>income</th>\n",
       "      <th>speak_english</th>\n",
       "      <th>walkability</th>\n",
       "      <th>traffic_safety</th>\n",
       "      <th>happiness</th>\n",
       "      <th>nightlife</th>\n",
       "      <th>free_wifi</th>\n",
       "      <th>coworking_places</th>\n",
       "      <th>ac_heating</th>\n",
       "      <th>foreigner frendly</th>\n",
       "      <th>speech_freedom</th>\n",
       "      <th>female_frendly</th>\n",
       "      <th>lgbtq_plus_friendly</th>\n",
       "      <th>startup_score</th>\n",
       "    </tr>\n",
       "  </thead>\n",
       "  <tbody>\n",
       "    <tr>\n",
       "      <th>0</th>\n",
       "      <td>0</td>\n",
       "      <td>Lisbon</td>\n",
       "      <td>4.8</td>\n",
       "      <td>Good</td>\n",
       "      <td>Good</td>\n",
       "      <td>2,082</td>\n",
       "      <td>26</td>\n",
       "      <td>Great</td>\n",
       "      <td>32</td>\n",
       "      <td>Great</td>\n",
       "      <td>Okay</td>\n",
       "      <td>Mediocre</td>\n",
       "      <td>1,646</td>\n",
       "      <td>Great</td>\n",
       "      <td>Great</td>\n",
       "      <td>Okay</td>\n",
       "      <td>Okay</td>\n",
       "      <td>Okay</td>\n",
       "      <td>Okay</td>\n",
       "      <td>Great</td>\n",
       "      <td>Okay</td>\n",
       "      <td>Good</td>\n",
       "      <td>Good</td>\n",
       "      <td>Good</td>\n",
       "      <td>Great</td>\n",
       "      <td>Okay</td>\n",
       "    </tr>\n",
       "    <tr>\n",
       "      <th>1</th>\n",
       "      <td>1</td>\n",
       "      <td>Cape Town</td>\n",
       "      <td>4.6</td>\n",
       "      <td>Good</td>\n",
       "      <td>Good</td>\n",
       "      <td>1,692</td>\n",
       "      <td>8</td>\n",
       "      <td>Good</td>\n",
       "      <td>16</td>\n",
       "      <td>Very bad</td>\n",
       "      <td>Okay</td>\n",
       "      <td>Mediocre</td>\n",
       "      <td>425</td>\n",
       "      <td>Great</td>\n",
       "      <td>Great</td>\n",
       "      <td>Bad</td>\n",
       "      <td>Bad</td>\n",
       "      <td>Good</td>\n",
       "      <td>Good</td>\n",
       "      <td>Great</td>\n",
       "      <td>Bad</td>\n",
       "      <td>Good</td>\n",
       "      <td>Good</td>\n",
       "      <td>Okay</td>\n",
       "      <td>Great</td>\n",
       "      <td>Okay</td>\n",
       "    </tr>\n",
       "    <tr>\n",
       "      <th>2</th>\n",
       "      <td>2</td>\n",
       "      <td>Porto</td>\n",
       "      <td>4.5</td>\n",
       "      <td>Good</td>\n",
       "      <td>Good</td>\n",
       "      <td>1,945</td>\n",
       "      <td>33</td>\n",
       "      <td>Good</td>\n",
       "      <td>11</td>\n",
       "      <td>Great</td>\n",
       "      <td>Okay</td>\n",
       "      <td>Mediocre</td>\n",
       "      <td>1,646</td>\n",
       "      <td>Good</td>\n",
       "      <td>Bad</td>\n",
       "      <td>Okay</td>\n",
       "      <td>Okay</td>\n",
       "      <td>Okay</td>\n",
       "      <td>Good</td>\n",
       "      <td>Great</td>\n",
       "      <td>Great</td>\n",
       "      <td>Good</td>\n",
       "      <td>Good</td>\n",
       "      <td>Good</td>\n",
       "      <td>Great</td>\n",
       "      <td>Okay</td>\n",
       "    </tr>\n",
       "    <tr>\n",
       "      <th>3</th>\n",
       "      <td>3</td>\n",
       "      <td>Madeira</td>\n",
       "      <td>4.5</td>\n",
       "      <td>Good</td>\n",
       "      <td>Good</td>\n",
       "      <td>2,059</td>\n",
       "      <td>38</td>\n",
       "      <td>Good</td>\n",
       "      <td>NaN</td>\n",
       "      <td>Great</td>\n",
       "      <td>Okay</td>\n",
       "      <td>Mediocre</td>\n",
       "      <td>1,646</td>\n",
       "      <td>Good</td>\n",
       "      <td>Bad</td>\n",
       "      <td>Okay</td>\n",
       "      <td>Okay</td>\n",
       "      <td>Okay</td>\n",
       "      <td>Great</td>\n",
       "      <td>Great</td>\n",
       "      <td>Okay</td>\n",
       "      <td>Great</td>\n",
       "      <td>Good</td>\n",
       "      <td>Good</td>\n",
       "      <td>Great</td>\n",
       "      <td>Okay</td>\n",
       "    </tr>\n",
       "    <tr>\n",
       "      <th>4</th>\n",
       "      <td>4</td>\n",
       "      <td>Las Palmas, Canary Islands</td>\n",
       "      <td>4.5</td>\n",
       "      <td>Good</td>\n",
       "      <td>Good</td>\n",
       "      <td>2,298</td>\n",
       "      <td>25</td>\n",
       "      <td>Good</td>\n",
       "      <td>38</td>\n",
       "      <td>Great</td>\n",
       "      <td>Okay</td>\n",
       "      <td>High</td>\n",
       "      <td>2,225</td>\n",
       "      <td>Okay</td>\n",
       "      <td>Great</td>\n",
       "      <td>Okay</td>\n",
       "      <td>Good</td>\n",
       "      <td>Good</td>\n",
       "      <td>Okay</td>\n",
       "      <td>Great</td>\n",
       "      <td>Okay</td>\n",
       "      <td>Good</td>\n",
       "      <td>Good</td>\n",
       "      <td>Good</td>\n",
       "      <td>Great</td>\n",
       "      <td>Okay</td>\n",
       "    </tr>\n",
       "  </tbody>\n",
       "</table>\n",
       "</div>"
      ],
      "text/plain": [
       "   rank                        city total_score life_quality family_score  \\\n",
       "0     0                      Lisbon         4.8         Good         Good   \n",
       "1     1                   Cape Town         4.6         Good         Good   \n",
       "2     2                       Porto         4.5         Good         Good   \n",
       "3     3                     Madeira         4.5         Good         Good   \n",
       "4     4  Las Palmas, Canary Islands         4.5         Good         Good   \n",
       "\n",
       "    cost internet    fun  air     crime racism Education income speak_english  \\\n",
       "0  2,082       26  Great  32      Great   Okay  Mediocre  1,646         Great   \n",
       "1  1,692        8   Good  16   Very bad   Okay  Mediocre  425           Great   \n",
       "2  1,945       33   Good  11      Great   Okay  Mediocre  1,646          Good   \n",
       "3  2,059       38   Good  NaN     Great   Okay  Mediocre  1,646          Good   \n",
       "4  2,298       25   Good  38      Great   Okay      High  2,225          Okay   \n",
       "\n",
       "  walkability traffic_safety happiness nightlife free_wifi coworking_places  \\\n",
       "0       Great           Okay      Okay      Okay      Okay            Great   \n",
       "1       Great            Bad       Bad      Good      Good            Great   \n",
       "2         Bad           Okay      Okay      Okay      Good            Great   \n",
       "3         Bad           Okay      Okay      Okay     Great            Great   \n",
       "4       Great           Okay      Good      Good      Okay            Great   \n",
       "\n",
       "  ac_heating foreigner frendly speech_freedom female_frendly  \\\n",
       "0       Okay              Good           Good           Good   \n",
       "1        Bad              Good           Good           Okay   \n",
       "2      Great              Good           Good           Good   \n",
       "3       Okay             Great           Good           Good   \n",
       "4       Okay              Good           Good           Good   \n",
       "\n",
       "  lgbtq_plus_friendly startup_score  \n",
       "0               Great          Okay  \n",
       "1               Great          Okay  \n",
       "2               Great          Okay  \n",
       "3               Great          Okay  \n",
       "4               Great          Okay  "
      ]
     },
     "execution_count": 72,
     "metadata": {},
     "output_type": "execute_result"
    }
   ],
   "source": [
    "nomad_df.head(5)"
   ]
  },
  {
   "cell_type": "code",
   "execution_count": 73,
   "metadata": {},
   "outputs": [
    {
     "data": {
      "text/plain": [
       "rank                   [0, 1, 2, 3, 4, 5, 6, 7, 8, 9, 11, 12, 13, 14,...\n",
       "city                   [Lisbon, Cape Town, Porto, Madeira, Las Palmas...\n",
       "total_score            [4.8, 4.6, 4.5, 4.4, 4.3, 4.2, 4.1, 4.0, 3.9, ...\n",
       "life_quality                                    [Good, Okay, Great, Bad]\n",
       "family_score                                           [Good, Okay, Bad]\n",
       "cost                   [2,082, 1,692, 1,945, 2,059, 2,298, 2,233, 1,1...\n",
       "internet               [26, 8, 33, 38, 25, 39, 18, 19, 20, 29, 11, 10...\n",
       "fun                                           [Great, Good, Okay, Bad, ]\n",
       "air                    [32 , 16 , 11 , nan, 38 , 33 , 56 , 23 , 111 ,...\n",
       "crime                               [Great, Very bad, Good, Bad, Okay, ]\n",
       "racism                                        [Okay, Great, Good, Bad, ]\n",
       "Education                   [Mediocre, High, Low, Very high, , Very low]\n",
       "income                 [1,646, 425  , 2,225, 298  , 4,817, 704  , 493...\n",
       "speak_english                                 [Great, Good, Okay, Bad, ]\n",
       "walkability                                           [Great, Bad, Okay]\n",
       "traffic_safety                                               [Okay, Bad]\n",
       "happiness                                     [Okay, Bad, Good, Great, ]\n",
       "nightlife                                     [Okay, Good, Great, Bad, ]\n",
       "free_wifi                                     [Okay, Good, Great, Bad, ]\n",
       "coworking_places                              [Great, Good, Bad, , Okay]\n",
       "ac_heating                                    [Okay, Bad, Great, Good, ]\n",
       "foreigner frendly                             [Good, Great, Okay, Bad, ]\n",
       "speech_freedom                                [Good, Okay, Bad, Great, ]\n",
       "female_frendly                                [Good, Okay, Great, Bad, ]\n",
       "lgbtq_plus_friendly                             [Great, Good, Bad, Okay]\n",
       "startup_score                                          [Okay, Good, Bad]\n",
       "dtype: object"
      ]
     },
     "execution_count": 73,
     "metadata": {},
     "output_type": "execute_result"
    }
   ],
   "source": [
    "pd.Series({col:nomad_df[col].unique() for col in nomad_df})"
   ]
  },
  {
   "cell_type": "code",
   "execution_count": 74,
   "metadata": {},
   "outputs": [],
   "source": [
    "# lets change words Great, good, okay, bad, very bad and Mediocre, High, Low, Very high, , Very low to their numerical values"
   ]
  },
  {
   "cell_type": "code",
   "execution_count": 75,
   "metadata": {},
   "outputs": [],
   "source": [
    "replacements = {\"Great\": \"5\",\n",
    "\"Good\": \"4\",\n",
    "\"Okay\": \"3\",\n",
    "\"Bad\": \"2\",\n",
    "\"Very bad\": \"1\",\n",
    "\"Very high\": \"5\",\n",
    "\"High\": \"4\",\n",
    "\"Mediocre\": \"3\",\n",
    "\"Low\": \"2\",\n",
    "\"Very low\": \"1\"}\n",
    "\n",
    "nomad_df.replace(replacements, inplace=True)"
   ]
  },
  {
   "cell_type": "code",
   "execution_count": 76,
   "metadata": {},
   "outputs": [
    {
     "data": {
      "text/html": [
       "<div>\n",
       "<style scoped>\n",
       "    .dataframe tbody tr th:only-of-type {\n",
       "        vertical-align: middle;\n",
       "    }\n",
       "\n",
       "    .dataframe tbody tr th {\n",
       "        vertical-align: top;\n",
       "    }\n",
       "\n",
       "    .dataframe thead th {\n",
       "        text-align: right;\n",
       "    }\n",
       "</style>\n",
       "<table border=\"1\" class=\"dataframe\">\n",
       "  <thead>\n",
       "    <tr style=\"text-align: right;\">\n",
       "      <th></th>\n",
       "      <th>rank</th>\n",
       "      <th>city</th>\n",
       "      <th>total_score</th>\n",
       "      <th>life_quality</th>\n",
       "      <th>family_score</th>\n",
       "      <th>cost</th>\n",
       "      <th>internet</th>\n",
       "      <th>fun</th>\n",
       "      <th>air</th>\n",
       "      <th>crime</th>\n",
       "      <th>racism</th>\n",
       "      <th>Education</th>\n",
       "      <th>income</th>\n",
       "      <th>speak_english</th>\n",
       "      <th>walkability</th>\n",
       "      <th>traffic_safety</th>\n",
       "      <th>happiness</th>\n",
       "      <th>nightlife</th>\n",
       "      <th>free_wifi</th>\n",
       "      <th>coworking_places</th>\n",
       "      <th>ac_heating</th>\n",
       "      <th>foreigner frendly</th>\n",
       "      <th>speech_freedom</th>\n",
       "      <th>female_frendly</th>\n",
       "      <th>lgbtq_plus_friendly</th>\n",
       "      <th>startup_score</th>\n",
       "    </tr>\n",
       "  </thead>\n",
       "  <tbody>\n",
       "    <tr>\n",
       "      <th>0</th>\n",
       "      <td>0</td>\n",
       "      <td>Lisbon</td>\n",
       "      <td>4.8</td>\n",
       "      <td>4</td>\n",
       "      <td>4</td>\n",
       "      <td>2,082</td>\n",
       "      <td>26</td>\n",
       "      <td>5</td>\n",
       "      <td>32</td>\n",
       "      <td>5</td>\n",
       "      <td>3</td>\n",
       "      <td>3</td>\n",
       "      <td>1,646</td>\n",
       "      <td>5</td>\n",
       "      <td>5</td>\n",
       "      <td>3</td>\n",
       "      <td>3</td>\n",
       "      <td>3</td>\n",
       "      <td>3</td>\n",
       "      <td>5</td>\n",
       "      <td>3</td>\n",
       "      <td>4</td>\n",
       "      <td>4</td>\n",
       "      <td>4</td>\n",
       "      <td>5</td>\n",
       "      <td>3</td>\n",
       "    </tr>\n",
       "    <tr>\n",
       "      <th>1</th>\n",
       "      <td>1</td>\n",
       "      <td>Cape Town</td>\n",
       "      <td>4.6</td>\n",
       "      <td>4</td>\n",
       "      <td>4</td>\n",
       "      <td>1,692</td>\n",
       "      <td>8</td>\n",
       "      <td>4</td>\n",
       "      <td>16</td>\n",
       "      <td>1</td>\n",
       "      <td>3</td>\n",
       "      <td>3</td>\n",
       "      <td>425</td>\n",
       "      <td>5</td>\n",
       "      <td>5</td>\n",
       "      <td>2</td>\n",
       "      <td>2</td>\n",
       "      <td>4</td>\n",
       "      <td>4</td>\n",
       "      <td>5</td>\n",
       "      <td>2</td>\n",
       "      <td>4</td>\n",
       "      <td>4</td>\n",
       "      <td>3</td>\n",
       "      <td>5</td>\n",
       "      <td>3</td>\n",
       "    </tr>\n",
       "    <tr>\n",
       "      <th>2</th>\n",
       "      <td>2</td>\n",
       "      <td>Porto</td>\n",
       "      <td>4.5</td>\n",
       "      <td>4</td>\n",
       "      <td>4</td>\n",
       "      <td>1,945</td>\n",
       "      <td>33</td>\n",
       "      <td>4</td>\n",
       "      <td>11</td>\n",
       "      <td>5</td>\n",
       "      <td>3</td>\n",
       "      <td>3</td>\n",
       "      <td>1,646</td>\n",
       "      <td>4</td>\n",
       "      <td>2</td>\n",
       "      <td>3</td>\n",
       "      <td>3</td>\n",
       "      <td>3</td>\n",
       "      <td>4</td>\n",
       "      <td>5</td>\n",
       "      <td>5</td>\n",
       "      <td>4</td>\n",
       "      <td>4</td>\n",
       "      <td>4</td>\n",
       "      <td>5</td>\n",
       "      <td>3</td>\n",
       "    </tr>\n",
       "  </tbody>\n",
       "</table>\n",
       "</div>"
      ],
      "text/plain": [
       "   rank       city total_score life_quality family_score   cost internet fun  \\\n",
       "0     0     Lisbon         4.8            4            4  2,082       26   5   \n",
       "1     1  Cape Town         4.6            4            4  1,692        8   4   \n",
       "2     2      Porto         4.5            4            4  1,945       33   4   \n",
       "\n",
       "   air crime racism Education income speak_english walkability traffic_safety  \\\n",
       "0  32      5      3         3  1,646             5           5              3   \n",
       "1  16      1      3         3  425               5           5              2   \n",
       "2  11      5      3         3  1,646             4           2              3   \n",
       "\n",
       "  happiness nightlife free_wifi coworking_places ac_heating foreigner frendly  \\\n",
       "0         3         3         3                5          3                 4   \n",
       "1         2         4         4                5          2                 4   \n",
       "2         3         3         4                5          5                 4   \n",
       "\n",
       "  speech_freedom female_frendly lgbtq_plus_friendly startup_score  \n",
       "0              4              4                   5             3  \n",
       "1              4              3                   5             3  \n",
       "2              4              4                   5             3  "
      ]
     },
     "execution_count": 76,
     "metadata": {},
     "output_type": "execute_result"
    }
   ],
   "source": [
    "nomad_df.head(3)"
   ]
  },
  {
   "cell_type": "code",
   "execution_count": 77,
   "metadata": {},
   "outputs": [
    {
     "data": {
      "text/html": [
       "<div>\n",
       "<style scoped>\n",
       "    .dataframe tbody tr th:only-of-type {\n",
       "        vertical-align: middle;\n",
       "    }\n",
       "\n",
       "    .dataframe tbody tr th {\n",
       "        vertical-align: top;\n",
       "    }\n",
       "\n",
       "    .dataframe thead th {\n",
       "        text-align: right;\n",
       "    }\n",
       "</style>\n",
       "<table border=\"1\" class=\"dataframe\">\n",
       "  <thead>\n",
       "    <tr style=\"text-align: right;\">\n",
       "      <th></th>\n",
       "      <th>rank</th>\n",
       "      <th>city</th>\n",
       "      <th>total_score</th>\n",
       "      <th>life_quality</th>\n",
       "      <th>family_score</th>\n",
       "      <th>cost</th>\n",
       "      <th>internet</th>\n",
       "      <th>fun</th>\n",
       "      <th>air</th>\n",
       "      <th>crime</th>\n",
       "      <th>racism</th>\n",
       "      <th>Education</th>\n",
       "      <th>income</th>\n",
       "      <th>speak_english</th>\n",
       "      <th>walkability</th>\n",
       "      <th>traffic_safety</th>\n",
       "      <th>happiness</th>\n",
       "      <th>nightlife</th>\n",
       "      <th>free_wifi</th>\n",
       "      <th>coworking_places</th>\n",
       "      <th>ac_heating</th>\n",
       "      <th>foreigner frendly</th>\n",
       "      <th>speech_freedom</th>\n",
       "      <th>female_frendly</th>\n",
       "      <th>lgbtq_plus_friendly</th>\n",
       "      <th>startup_score</th>\n",
       "    </tr>\n",
       "  </thead>\n",
       "  <tbody>\n",
       "    <tr>\n",
       "      <th>0</th>\n",
       "      <td>0</td>\n",
       "      <td>Lisbon</td>\n",
       "      <td>4.8</td>\n",
       "      <td>4</td>\n",
       "      <td>4</td>\n",
       "      <td>2082</td>\n",
       "      <td>26</td>\n",
       "      <td>5</td>\n",
       "      <td>32</td>\n",
       "      <td>5</td>\n",
       "      <td>3</td>\n",
       "      <td>3</td>\n",
       "      <td>1646</td>\n",
       "      <td>5</td>\n",
       "      <td>5</td>\n",
       "      <td>3</td>\n",
       "      <td>3</td>\n",
       "      <td>3</td>\n",
       "      <td>3</td>\n",
       "      <td>5</td>\n",
       "      <td>3</td>\n",
       "      <td>4</td>\n",
       "      <td>4</td>\n",
       "      <td>4</td>\n",
       "      <td>5</td>\n",
       "      <td>3</td>\n",
       "    </tr>\n",
       "    <tr>\n",
       "      <th>1</th>\n",
       "      <td>1</td>\n",
       "      <td>Cape Town</td>\n",
       "      <td>4.6</td>\n",
       "      <td>4</td>\n",
       "      <td>4</td>\n",
       "      <td>1692</td>\n",
       "      <td>8</td>\n",
       "      <td>4</td>\n",
       "      <td>16</td>\n",
       "      <td>1</td>\n",
       "      <td>3</td>\n",
       "      <td>3</td>\n",
       "      <td>425</td>\n",
       "      <td>5</td>\n",
       "      <td>5</td>\n",
       "      <td>2</td>\n",
       "      <td>2</td>\n",
       "      <td>4</td>\n",
       "      <td>4</td>\n",
       "      <td>5</td>\n",
       "      <td>2</td>\n",
       "      <td>4</td>\n",
       "      <td>4</td>\n",
       "      <td>3</td>\n",
       "      <td>5</td>\n",
       "      <td>3</td>\n",
       "    </tr>\n",
       "    <tr>\n",
       "      <th>2</th>\n",
       "      <td>2</td>\n",
       "      <td>Porto</td>\n",
       "      <td>4.5</td>\n",
       "      <td>4</td>\n",
       "      <td>4</td>\n",
       "      <td>1945</td>\n",
       "      <td>33</td>\n",
       "      <td>4</td>\n",
       "      <td>11</td>\n",
       "      <td>5</td>\n",
       "      <td>3</td>\n",
       "      <td>3</td>\n",
       "      <td>1646</td>\n",
       "      <td>4</td>\n",
       "      <td>2</td>\n",
       "      <td>3</td>\n",
       "      <td>3</td>\n",
       "      <td>3</td>\n",
       "      <td>4</td>\n",
       "      <td>5</td>\n",
       "      <td>5</td>\n",
       "      <td>4</td>\n",
       "      <td>4</td>\n",
       "      <td>4</td>\n",
       "      <td>5</td>\n",
       "      <td>3</td>\n",
       "    </tr>\n",
       "  </tbody>\n",
       "</table>\n",
       "</div>"
      ],
      "text/plain": [
       "   rank       city total_score life_quality family_score  cost internet fun  \\\n",
       "0     0     Lisbon         4.8            4            4  2082       26   5   \n",
       "1     1  Cape Town         4.6            4            4  1692        8   4   \n",
       "2     2      Porto         4.5            4            4  1945       33   4   \n",
       "\n",
       "   air crime racism Education income speak_english walkability traffic_safety  \\\n",
       "0  32      5      3         3   1646             5           5              3   \n",
       "1  16      1      3         3  425               5           5              2   \n",
       "2  11      5      3         3   1646             4           2              3   \n",
       "\n",
       "  happiness nightlife free_wifi coworking_places ac_heating foreigner frendly  \\\n",
       "0         3         3         3                5          3                 4   \n",
       "1         2         4         4                5          2                 4   \n",
       "2         3         3         4                5          5                 4   \n",
       "\n",
       "  speech_freedom female_frendly lgbtq_plus_friendly startup_score  \n",
       "0              4              4                   5             3  \n",
       "1              4              3                   5             3  \n",
       "2              4              4                   5             3  "
      ]
     },
     "execution_count": 77,
     "metadata": {},
     "output_type": "execute_result"
    }
   ],
   "source": [
    "# remove commas \n",
    "nomad_df.replace(',','', regex=True, inplace=True)\n",
    "nomad_df.head(3)"
   ]
  },
  {
   "cell_type": "code",
   "execution_count": 78,
   "metadata": {},
   "outputs": [
    {
     "name": "stdout",
     "output_type": "stream",
     "text": [
      "<class 'pandas.core.frame.DataFrame'>\n",
      "RangeIndex: 1312 entries, 0 to 1311\n",
      "Data columns (total 26 columns):\n",
      " #   Column               Non-Null Count  Dtype \n",
      "---  ------               --------------  ----- \n",
      " 0   rank                 1312 non-null   int64 \n",
      " 1   city                 1312 non-null   object\n",
      " 2   total_score          1312 non-null   object\n",
      " 3   life_quality         1312 non-null   object\n",
      " 4   family_score         1312 non-null   object\n",
      " 5   cost                 1312 non-null   object\n",
      " 6   internet             1312 non-null   object\n",
      " 7   fun                  1312 non-null   object\n",
      " 8   air                  943 non-null    object\n",
      " 9   crime                1312 non-null   object\n",
      " 10  racism               1312 non-null   object\n",
      " 11  Education            1312 non-null   object\n",
      " 12  income               1312 non-null   object\n",
      " 13  speak_english        1312 non-null   object\n",
      " 14  walkability          1312 non-null   object\n",
      " 15  traffic_safety       1312 non-null   object\n",
      " 16  happiness            1312 non-null   object\n",
      " 17  nightlife            1312 non-null   object\n",
      " 18  free_wifi            1312 non-null   object\n",
      " 19  coworking_places     1312 non-null   object\n",
      " 20  ac_heating           1312 non-null   object\n",
      " 21  foreigner frendly    1312 non-null   object\n",
      " 22  speech_freedom       1312 non-null   object\n",
      " 23  female_frendly       1312 non-null   object\n",
      " 24  lgbtq_plus_friendly  1312 non-null   object\n",
      " 25  startup_score        1312 non-null   object\n",
      "dtypes: int64(1), object(25)\n",
      "memory usage: 266.6+ KB\n"
     ]
    }
   ],
   "source": [
    "nomad_df.info()"
   ]
  },
  {
   "cell_type": "code",
   "execution_count": 79,
   "metadata": {},
   "outputs": [
    {
     "data": {
      "text/plain": [
       "Index(['rank', 'city', 'total_score', 'life_quality', 'family_score', 'cost',\n",
       "       'internet', 'fun', 'air', 'crime', 'racism', 'Education', 'income',\n",
       "       'speak_english', 'walkability', 'traffic_safety', 'happiness',\n",
       "       'nightlife', 'free_wifi', 'coworking_places', 'ac_heating',\n",
       "       'foreigner frendly', 'speech_freedom', 'female_frendly',\n",
       "       'lgbtq_plus_friendly', 'startup_score'],\n",
       "      dtype='object')"
      ]
     },
     "execution_count": 79,
     "metadata": {},
     "output_type": "execute_result"
    }
   ],
   "source": [
    "nomad_df.columns"
   ]
  },
  {
   "cell_type": "code",
   "execution_count": 80,
   "metadata": {},
   "outputs": [],
   "source": [
    "nomad_df.replace('3/5','3.0', regex=True, inplace=True) # replaced / sign as it did not allow changing data type=\n",
    "nomad_df.replace('/','', regex=True, inplace=True) # and removed the same sign from the rest"
   ]
  },
  {
   "cell_type": "code",
   "execution_count": 81,
   "metadata": {},
   "outputs": [],
   "source": [
    "# convert columns to numericals to reflect their values float (numerical), but first we need to fill with nan and emtpy values otherwise datatype change will not work\n",
    "num_df = nomad_df.drop(columns=['rank', 'city'])"
   ]
  },
  {
   "cell_type": "code",
   "execution_count": 82,
   "metadata": {},
   "outputs": [],
   "source": [
    "#fill empty spaces with Nan\n",
    "num_df[num_df==\"\"] = np.NaN"
   ]
  },
  {
   "cell_type": "code",
   "execution_count": 83,
   "metadata": {},
   "outputs": [],
   "source": [
    "# replace nans with neigbour value\n",
    "num_df=num_df.fillna(method='ffill')"
   ]
  },
  {
   "cell_type": "code",
   "execution_count": 84,
   "metadata": {},
   "outputs": [],
   "source": [
    "# and finally convert to numerical\n",
    "numrs_df = num_df.astype(float)"
   ]
  },
  {
   "cell_type": "code",
   "execution_count": 85,
   "metadata": {},
   "outputs": [
    {
     "name": "stdout",
     "output_type": "stream",
     "text": [
      "<class 'pandas.core.frame.DataFrame'>\n",
      "RangeIndex: 1312 entries, 0 to 1311\n",
      "Data columns (total 24 columns):\n",
      " #   Column               Non-Null Count  Dtype  \n",
      "---  ------               --------------  -----  \n",
      " 0   total_score          1312 non-null   float64\n",
      " 1   life_quality         1312 non-null   float64\n",
      " 2   family_score         1312 non-null   float64\n",
      " 3   cost                 1312 non-null   float64\n",
      " 4   internet             1312 non-null   float64\n",
      " 5   fun                  1312 non-null   float64\n",
      " 6   air                  1312 non-null   float64\n",
      " 7   crime                1312 non-null   float64\n",
      " 8   racism               1312 non-null   float64\n",
      " 9   Education            1312 non-null   float64\n",
      " 10  income               1312 non-null   float64\n",
      " 11  speak_english        1312 non-null   float64\n",
      " 12  walkability          1312 non-null   float64\n",
      " 13  traffic_safety       1312 non-null   float64\n",
      " 14  happiness            1312 non-null   float64\n",
      " 15  nightlife            1312 non-null   float64\n",
      " 16  free_wifi            1312 non-null   float64\n",
      " 17  coworking_places     1312 non-null   float64\n",
      " 18  ac_heating           1312 non-null   float64\n",
      " 19  foreigner frendly    1312 non-null   float64\n",
      " 20  speech_freedom       1312 non-null   float64\n",
      " 21  female_frendly       1312 non-null   float64\n",
      " 22  lgbtq_plus_friendly  1312 non-null   float64\n",
      " 23  startup_score        1312 non-null   float64\n",
      "dtypes: float64(24)\n",
      "memory usage: 246.1 KB\n"
     ]
    }
   ],
   "source": [
    "numrs_df.info()"
   ]
  },
  {
   "cell_type": "code",
   "execution_count": 86,
   "metadata": {},
   "outputs": [
    {
     "data": {
      "text/plain": [
       "total_score            [4.8, 4.6, 4.5, 4.4, 4.3, 4.2, 4.1, 4.0, 3.9, ...\n",
       "life_quality                                        [4.0, 3.0, 5.0, 2.0]\n",
       "family_score                                             [4.0, 3.0, 2.0]\n",
       "cost                   [2082.0, 1692.0, 1945.0, 2059.0, 2298.0, 2233....\n",
       "internet               [26.0, 8.0, 33.0, 38.0, 25.0, 39.0, 18.0, 19.0...\n",
       "fun                                                 [5.0, 4.0, 3.0, 2.0]\n",
       "air                    [32.0, 16.0, 11.0, 38.0, 33.0, 56.0, 23.0, 111...\n",
       "crime                                          [5.0, 1.0, 4.0, 2.0, 3.0]\n",
       "racism                                              [3.0, 5.0, 4.0, 2.0]\n",
       "Education                                      [3.0, 4.0, 2.0, 5.0, 1.0]\n",
       "income                 [1646.0, 425.0, 2225.0, 298.0, 4817.0, 704.0, ...\n",
       "speak_english                                       [5.0, 4.0, 3.0, 2.0]\n",
       "walkability                                              [5.0, 2.0, 3.0]\n",
       "traffic_safety                                                [3.0, 2.0]\n",
       "happiness                                           [3.0, 2.0, 4.0, 5.0]\n",
       "nightlife                                           [3.0, 4.0, 5.0, 2.0]\n",
       "free_wifi                                           [3.0, 4.0, 5.0, 2.0]\n",
       "coworking_places                                    [5.0, 4.0, 2.0, 3.0]\n",
       "ac_heating                                          [3.0, 2.0, 5.0, 4.0]\n",
       "foreigner frendly                                   [4.0, 5.0, 3.0, 2.0]\n",
       "speech_freedom                                      [4.0, 3.0, 2.0, 5.0]\n",
       "female_frendly                                      [4.0, 3.0, 5.0, 2.0]\n",
       "lgbtq_plus_friendly                                 [5.0, 4.0, 2.0, 3.0]\n",
       "startup_score                                            [3.0, 4.0, 2.0]\n",
       "dtype: object"
      ]
     },
     "execution_count": 86,
     "metadata": {},
     "output_type": "execute_result"
    }
   ],
   "source": [
    "pd.Series({col:numrs_df[col].unique() for col in numrs_df})"
   ]
  },
  {
   "cell_type": "code",
   "execution_count": 87,
   "metadata": {},
   "outputs": [],
   "source": [
    "# this deals with nan values"
   ]
  },
  {
   "cell_type": "code",
   "execution_count": 88,
   "metadata": {},
   "outputs": [
    {
     "name": "stdout",
     "output_type": "stream",
     "text": [
      "<class 'pandas.core.frame.DataFrame'>\n",
      "RangeIndex: 1312 entries, 0 to 1311\n",
      "Data columns (total 26 columns):\n",
      " #   Column               Non-Null Count  Dtype  \n",
      "---  ------               --------------  -----  \n",
      " 0   rank                 1312 non-null   int64  \n",
      " 1   city                 1312 non-null   object \n",
      " 2   total_score          1312 non-null   float64\n",
      " 3   life_quality         1312 non-null   float64\n",
      " 4   family_score         1312 non-null   float64\n",
      " 5   cost                 1312 non-null   float64\n",
      " 6   internet             1312 non-null   float64\n",
      " 7   fun                  1312 non-null   float64\n",
      " 8   air                  1312 non-null   float64\n",
      " 9   crime                1312 non-null   float64\n",
      " 10  racism               1312 non-null   float64\n",
      " 11  Education            1312 non-null   float64\n",
      " 12  income               1312 non-null   float64\n",
      " 13  speak_english        1312 non-null   float64\n",
      " 14  walkability          1312 non-null   float64\n",
      " 15  traffic_safety       1312 non-null   float64\n",
      " 16  happiness            1312 non-null   float64\n",
      " 17  nightlife            1312 non-null   float64\n",
      " 18  free_wifi            1312 non-null   float64\n",
      " 19  coworking_places     1312 non-null   float64\n",
      " 20  ac_heating           1312 non-null   float64\n",
      " 21  foreigner frendly    1312 non-null   float64\n",
      " 22  speech_freedom       1312 non-null   float64\n",
      " 23  female_frendly       1312 non-null   float64\n",
      " 24  lgbtq_plus_friendly  1312 non-null   float64\n",
      " 25  startup_score        1312 non-null   float64\n",
      "dtypes: float64(24), int64(1), object(1)\n",
      "memory usage: 266.6+ KB\n"
     ]
    }
   ],
   "source": [
    "# join the dataframe back together with the new datatypes\n",
    "df=pd.concat([nomad_df[['rank', 'city']], numrs_df], axis=1)\n",
    "df.info()"
   ]
  },
  {
   "cell_type": "code",
   "execution_count": 89,
   "metadata": {},
   "outputs": [
    {
     "data": {
      "text/html": [
       "<div>\n",
       "<style scoped>\n",
       "    .dataframe tbody tr th:only-of-type {\n",
       "        vertical-align: middle;\n",
       "    }\n",
       "\n",
       "    .dataframe tbody tr th {\n",
       "        vertical-align: top;\n",
       "    }\n",
       "\n",
       "    .dataframe thead th {\n",
       "        text-align: right;\n",
       "    }\n",
       "</style>\n",
       "<table border=\"1\" class=\"dataframe\">\n",
       "  <thead>\n",
       "    <tr style=\"text-align: right;\">\n",
       "      <th></th>\n",
       "      <th>rank</th>\n",
       "      <th>city</th>\n",
       "      <th>total_score</th>\n",
       "      <th>life_quality</th>\n",
       "      <th>family_score</th>\n",
       "      <th>cost</th>\n",
       "      <th>internet</th>\n",
       "      <th>fun</th>\n",
       "      <th>air</th>\n",
       "      <th>crime</th>\n",
       "      <th>racism</th>\n",
       "      <th>Education</th>\n",
       "      <th>income</th>\n",
       "      <th>speak_english</th>\n",
       "      <th>walkability</th>\n",
       "      <th>traffic_safety</th>\n",
       "      <th>happiness</th>\n",
       "      <th>nightlife</th>\n",
       "      <th>free_wifi</th>\n",
       "      <th>coworking_places</th>\n",
       "      <th>ac_heating</th>\n",
       "      <th>foreigner frendly</th>\n",
       "      <th>speech_freedom</th>\n",
       "      <th>female_frendly</th>\n",
       "      <th>lgbtq_plus_friendly</th>\n",
       "      <th>startup_score</th>\n",
       "    </tr>\n",
       "  </thead>\n",
       "  <tbody>\n",
       "    <tr>\n",
       "      <th>0</th>\n",
       "      <td>0</td>\n",
       "      <td>Lisbon</td>\n",
       "      <td>4.8</td>\n",
       "      <td>4.0</td>\n",
       "      <td>4.0</td>\n",
       "      <td>2082.0</td>\n",
       "      <td>26.0</td>\n",
       "      <td>5.0</td>\n",
       "      <td>32.0</td>\n",
       "      <td>5.0</td>\n",
       "      <td>3.0</td>\n",
       "      <td>3.0</td>\n",
       "      <td>1646.0</td>\n",
       "      <td>5.0</td>\n",
       "      <td>5.0</td>\n",
       "      <td>3.0</td>\n",
       "      <td>3.0</td>\n",
       "      <td>3.0</td>\n",
       "      <td>3.0</td>\n",
       "      <td>5.0</td>\n",
       "      <td>3.0</td>\n",
       "      <td>4.0</td>\n",
       "      <td>4.0</td>\n",
       "      <td>4.0</td>\n",
       "      <td>5.0</td>\n",
       "      <td>3.0</td>\n",
       "    </tr>\n",
       "    <tr>\n",
       "      <th>1</th>\n",
       "      <td>1</td>\n",
       "      <td>Cape Town</td>\n",
       "      <td>4.6</td>\n",
       "      <td>4.0</td>\n",
       "      <td>4.0</td>\n",
       "      <td>1692.0</td>\n",
       "      <td>8.0</td>\n",
       "      <td>4.0</td>\n",
       "      <td>16.0</td>\n",
       "      <td>1.0</td>\n",
       "      <td>3.0</td>\n",
       "      <td>3.0</td>\n",
       "      <td>425.0</td>\n",
       "      <td>5.0</td>\n",
       "      <td>5.0</td>\n",
       "      <td>2.0</td>\n",
       "      <td>2.0</td>\n",
       "      <td>4.0</td>\n",
       "      <td>4.0</td>\n",
       "      <td>5.0</td>\n",
       "      <td>2.0</td>\n",
       "      <td>4.0</td>\n",
       "      <td>4.0</td>\n",
       "      <td>3.0</td>\n",
       "      <td>5.0</td>\n",
       "      <td>3.0</td>\n",
       "    </tr>\n",
       "    <tr>\n",
       "      <th>2</th>\n",
       "      <td>2</td>\n",
       "      <td>Porto</td>\n",
       "      <td>4.5</td>\n",
       "      <td>4.0</td>\n",
       "      <td>4.0</td>\n",
       "      <td>1945.0</td>\n",
       "      <td>33.0</td>\n",
       "      <td>4.0</td>\n",
       "      <td>11.0</td>\n",
       "      <td>5.0</td>\n",
       "      <td>3.0</td>\n",
       "      <td>3.0</td>\n",
       "      <td>1646.0</td>\n",
       "      <td>4.0</td>\n",
       "      <td>2.0</td>\n",
       "      <td>3.0</td>\n",
       "      <td>3.0</td>\n",
       "      <td>3.0</td>\n",
       "      <td>4.0</td>\n",
       "      <td>5.0</td>\n",
       "      <td>5.0</td>\n",
       "      <td>4.0</td>\n",
       "      <td>4.0</td>\n",
       "      <td>4.0</td>\n",
       "      <td>5.0</td>\n",
       "      <td>3.0</td>\n",
       "    </tr>\n",
       "    <tr>\n",
       "      <th>3</th>\n",
       "      <td>3</td>\n",
       "      <td>Madeira</td>\n",
       "      <td>4.5</td>\n",
       "      <td>4.0</td>\n",
       "      <td>4.0</td>\n",
       "      <td>2059.0</td>\n",
       "      <td>38.0</td>\n",
       "      <td>4.0</td>\n",
       "      <td>11.0</td>\n",
       "      <td>5.0</td>\n",
       "      <td>3.0</td>\n",
       "      <td>3.0</td>\n",
       "      <td>1646.0</td>\n",
       "      <td>4.0</td>\n",
       "      <td>2.0</td>\n",
       "      <td>3.0</td>\n",
       "      <td>3.0</td>\n",
       "      <td>3.0</td>\n",
       "      <td>5.0</td>\n",
       "      <td>5.0</td>\n",
       "      <td>3.0</td>\n",
       "      <td>5.0</td>\n",
       "      <td>4.0</td>\n",
       "      <td>4.0</td>\n",
       "      <td>5.0</td>\n",
       "      <td>3.0</td>\n",
       "    </tr>\n",
       "    <tr>\n",
       "      <th>4</th>\n",
       "      <td>4</td>\n",
       "      <td>Las Palmas Canary Islands</td>\n",
       "      <td>4.5</td>\n",
       "      <td>4.0</td>\n",
       "      <td>4.0</td>\n",
       "      <td>2298.0</td>\n",
       "      <td>25.0</td>\n",
       "      <td>4.0</td>\n",
       "      <td>38.0</td>\n",
       "      <td>5.0</td>\n",
       "      <td>3.0</td>\n",
       "      <td>4.0</td>\n",
       "      <td>2225.0</td>\n",
       "      <td>3.0</td>\n",
       "      <td>5.0</td>\n",
       "      <td>3.0</td>\n",
       "      <td>4.0</td>\n",
       "      <td>4.0</td>\n",
       "      <td>3.0</td>\n",
       "      <td>5.0</td>\n",
       "      <td>3.0</td>\n",
       "      <td>4.0</td>\n",
       "      <td>4.0</td>\n",
       "      <td>4.0</td>\n",
       "      <td>5.0</td>\n",
       "      <td>3.0</td>\n",
       "    </tr>\n",
       "    <tr>\n",
       "      <th>...</th>\n",
       "      <td>...</td>\n",
       "      <td>...</td>\n",
       "      <td>...</td>\n",
       "      <td>...</td>\n",
       "      <td>...</td>\n",
       "      <td>...</td>\n",
       "      <td>...</td>\n",
       "      <td>...</td>\n",
       "      <td>...</td>\n",
       "      <td>...</td>\n",
       "      <td>...</td>\n",
       "      <td>...</td>\n",
       "      <td>...</td>\n",
       "      <td>...</td>\n",
       "      <td>...</td>\n",
       "      <td>...</td>\n",
       "      <td>...</td>\n",
       "      <td>...</td>\n",
       "      <td>...</td>\n",
       "      <td>...</td>\n",
       "      <td>...</td>\n",
       "      <td>...</td>\n",
       "      <td>...</td>\n",
       "      <td>...</td>\n",
       "      <td>...</td>\n",
       "      <td>...</td>\n",
       "    </tr>\n",
       "    <tr>\n",
       "      <th>1307</th>\n",
       "      <td>1338</td>\n",
       "      <td>Ramallah</td>\n",
       "      <td>2.0</td>\n",
       "      <td>3.0</td>\n",
       "      <td>3.0</td>\n",
       "      <td>5474.0</td>\n",
       "      <td>6.0</td>\n",
       "      <td>2.0</td>\n",
       "      <td>62.0</td>\n",
       "      <td>5.0</td>\n",
       "      <td>4.0</td>\n",
       "      <td>3.0</td>\n",
       "      <td>233.0</td>\n",
       "      <td>3.0</td>\n",
       "      <td>2.0</td>\n",
       "      <td>3.0</td>\n",
       "      <td>3.0</td>\n",
       "      <td>4.0</td>\n",
       "      <td>2.0</td>\n",
       "      <td>3.0</td>\n",
       "      <td>3.0</td>\n",
       "      <td>4.0</td>\n",
       "      <td>3.0</td>\n",
       "      <td>3.0</td>\n",
       "      <td>2.0</td>\n",
       "      <td>2.0</td>\n",
       "    </tr>\n",
       "    <tr>\n",
       "      <th>1308</th>\n",
       "      <td>1339</td>\n",
       "      <td>Homs</td>\n",
       "      <td>1.9</td>\n",
       "      <td>2.0</td>\n",
       "      <td>2.0</td>\n",
       "      <td>1241.0</td>\n",
       "      <td>1.0</td>\n",
       "      <td>2.0</td>\n",
       "      <td>62.0</td>\n",
       "      <td>4.0</td>\n",
       "      <td>2.0</td>\n",
       "      <td>3.0</td>\n",
       "      <td>100.0</td>\n",
       "      <td>2.0</td>\n",
       "      <td>5.0</td>\n",
       "      <td>2.0</td>\n",
       "      <td>2.0</td>\n",
       "      <td>2.0</td>\n",
       "      <td>2.0</td>\n",
       "      <td>2.0</td>\n",
       "      <td>2.0</td>\n",
       "      <td>2.0</td>\n",
       "      <td>3.0</td>\n",
       "      <td>2.0</td>\n",
       "      <td>2.0</td>\n",
       "      <td>2.0</td>\n",
       "    </tr>\n",
       "    <tr>\n",
       "      <th>1309</th>\n",
       "      <td>1341</td>\n",
       "      <td>Monrovia</td>\n",
       "      <td>1.9</td>\n",
       "      <td>2.0</td>\n",
       "      <td>2.0</td>\n",
       "      <td>5506.0</td>\n",
       "      <td>9.0</td>\n",
       "      <td>2.0</td>\n",
       "      <td>62.0</td>\n",
       "      <td>4.0</td>\n",
       "      <td>2.0</td>\n",
       "      <td>1.0</td>\n",
       "      <td>50.0</td>\n",
       "      <td>2.0</td>\n",
       "      <td>2.0</td>\n",
       "      <td>2.0</td>\n",
       "      <td>2.0</td>\n",
       "      <td>3.0</td>\n",
       "      <td>2.0</td>\n",
       "      <td>5.0</td>\n",
       "      <td>2.0</td>\n",
       "      <td>3.0</td>\n",
       "      <td>3.0</td>\n",
       "      <td>2.0</td>\n",
       "      <td>2.0</td>\n",
       "      <td>2.0</td>\n",
       "    </tr>\n",
       "    <tr>\n",
       "      <th>1310</th>\n",
       "      <td>1343</td>\n",
       "      <td>Hama</td>\n",
       "      <td>1.8</td>\n",
       "      <td>2.0</td>\n",
       "      <td>2.0</td>\n",
       "      <td>1950.0</td>\n",
       "      <td>2.0</td>\n",
       "      <td>2.0</td>\n",
       "      <td>62.0</td>\n",
       "      <td>4.0</td>\n",
       "      <td>2.0</td>\n",
       "      <td>3.0</td>\n",
       "      <td>100.0</td>\n",
       "      <td>2.0</td>\n",
       "      <td>2.0</td>\n",
       "      <td>2.0</td>\n",
       "      <td>2.0</td>\n",
       "      <td>2.0</td>\n",
       "      <td>2.0</td>\n",
       "      <td>2.0</td>\n",
       "      <td>2.0</td>\n",
       "      <td>2.0</td>\n",
       "      <td>3.0</td>\n",
       "      <td>2.0</td>\n",
       "      <td>2.0</td>\n",
       "      <td>2.0</td>\n",
       "    </tr>\n",
       "    <tr>\n",
       "      <th>1311</th>\n",
       "      <td>1344</td>\n",
       "      <td>Yangzhou</td>\n",
       "      <td>1.7</td>\n",
       "      <td>3.0</td>\n",
       "      <td>2.0</td>\n",
       "      <td>4691.0</td>\n",
       "      <td>1.0</td>\n",
       "      <td>2.0</td>\n",
       "      <td>103.0</td>\n",
       "      <td>5.0</td>\n",
       "      <td>2.0</td>\n",
       "      <td>3.0</td>\n",
       "      <td>677.0</td>\n",
       "      <td>2.0</td>\n",
       "      <td>5.0</td>\n",
       "      <td>2.0</td>\n",
       "      <td>3.0</td>\n",
       "      <td>2.0</td>\n",
       "      <td>2.0</td>\n",
       "      <td>4.0</td>\n",
       "      <td>3.0</td>\n",
       "      <td>3.0</td>\n",
       "      <td>3.0</td>\n",
       "      <td>3.0</td>\n",
       "      <td>2.0</td>\n",
       "      <td>2.0</td>\n",
       "    </tr>\n",
       "  </tbody>\n",
       "</table>\n",
       "<p>1312 rows × 26 columns</p>\n",
       "</div>"
      ],
      "text/plain": [
       "      rank                       city  total_score  life_quality  \\\n",
       "0        0                     Lisbon          4.8           4.0   \n",
       "1        1                  Cape Town          4.6           4.0   \n",
       "2        2                      Porto          4.5           4.0   \n",
       "3        3                    Madeira          4.5           4.0   \n",
       "4        4  Las Palmas Canary Islands          4.5           4.0   \n",
       "...    ...                        ...          ...           ...   \n",
       "1307  1338                   Ramallah          2.0           3.0   \n",
       "1308  1339                       Homs          1.9           2.0   \n",
       "1309  1341                   Monrovia          1.9           2.0   \n",
       "1310  1343                       Hama          1.8           2.0   \n",
       "1311  1344                   Yangzhou          1.7           3.0   \n",
       "\n",
       "      family_score    cost  internet  fun    air  crime  racism  Education  \\\n",
       "0              4.0  2082.0      26.0  5.0   32.0    5.0     3.0        3.0   \n",
       "1              4.0  1692.0       8.0  4.0   16.0    1.0     3.0        3.0   \n",
       "2              4.0  1945.0      33.0  4.0   11.0    5.0     3.0        3.0   \n",
       "3              4.0  2059.0      38.0  4.0   11.0    5.0     3.0        3.0   \n",
       "4              4.0  2298.0      25.0  4.0   38.0    5.0     3.0        4.0   \n",
       "...            ...     ...       ...  ...    ...    ...     ...        ...   \n",
       "1307           3.0  5474.0       6.0  2.0   62.0    5.0     4.0        3.0   \n",
       "1308           2.0  1241.0       1.0  2.0   62.0    4.0     2.0        3.0   \n",
       "1309           2.0  5506.0       9.0  2.0   62.0    4.0     2.0        1.0   \n",
       "1310           2.0  1950.0       2.0  2.0   62.0    4.0     2.0        3.0   \n",
       "1311           2.0  4691.0       1.0  2.0  103.0    5.0     2.0        3.0   \n",
       "\n",
       "      income  speak_english  walkability  traffic_safety  happiness  \\\n",
       "0     1646.0            5.0          5.0             3.0        3.0   \n",
       "1      425.0            5.0          5.0             2.0        2.0   \n",
       "2     1646.0            4.0          2.0             3.0        3.0   \n",
       "3     1646.0            4.0          2.0             3.0        3.0   \n",
       "4     2225.0            3.0          5.0             3.0        4.0   \n",
       "...      ...            ...          ...             ...        ...   \n",
       "1307   233.0            3.0          2.0             3.0        3.0   \n",
       "1308   100.0            2.0          5.0             2.0        2.0   \n",
       "1309    50.0            2.0          2.0             2.0        2.0   \n",
       "1310   100.0            2.0          2.0             2.0        2.0   \n",
       "1311   677.0            2.0          5.0             2.0        3.0   \n",
       "\n",
       "      nightlife  free_wifi  coworking_places  ac_heating  foreigner frendly  \\\n",
       "0           3.0        3.0               5.0         3.0                4.0   \n",
       "1           4.0        4.0               5.0         2.0                4.0   \n",
       "2           3.0        4.0               5.0         5.0                4.0   \n",
       "3           3.0        5.0               5.0         3.0                5.0   \n",
       "4           4.0        3.0               5.0         3.0                4.0   \n",
       "...         ...        ...               ...         ...                ...   \n",
       "1307        4.0        2.0               3.0         3.0                4.0   \n",
       "1308        2.0        2.0               2.0         2.0                2.0   \n",
       "1309        3.0        2.0               5.0         2.0                3.0   \n",
       "1310        2.0        2.0               2.0         2.0                2.0   \n",
       "1311        2.0        2.0               4.0         3.0                3.0   \n",
       "\n",
       "      speech_freedom  female_frendly  lgbtq_plus_friendly  startup_score  \n",
       "0                4.0             4.0                  5.0            3.0  \n",
       "1                4.0             3.0                  5.0            3.0  \n",
       "2                4.0             4.0                  5.0            3.0  \n",
       "3                4.0             4.0                  5.0            3.0  \n",
       "4                4.0             4.0                  5.0            3.0  \n",
       "...              ...             ...                  ...            ...  \n",
       "1307             3.0             3.0                  2.0            2.0  \n",
       "1308             3.0             2.0                  2.0            2.0  \n",
       "1309             3.0             2.0                  2.0            2.0  \n",
       "1310             3.0             2.0                  2.0            2.0  \n",
       "1311             3.0             3.0                  2.0            2.0  \n",
       "\n",
       "[1312 rows x 26 columns]"
      ]
     },
     "execution_count": 89,
     "metadata": {},
     "output_type": "execute_result"
    }
   ],
   "source": [
    "df"
   ]
  },
  {
   "cell_type": "code",
   "execution_count": 93,
   "metadata": {},
   "outputs": [],
   "source": [
    "df.to_csv('nomad_list_clean.csv')"
   ]
  },
  {
   "cell_type": "code",
   "execution_count": 90,
   "metadata": {},
   "outputs": [
    {
     "name": "stdout",
     "output_type": "stream",
     "text": [
      "(670, 26)\n",
      "(642, 26)\n"
     ]
    }
   ],
   "source": [
    "#split city names in two columns to avoid errors with geopy\n",
    "city1 = df.iloc[:670,:]\n",
    "city2 = df.iloc[670:,:]\n",
    "\n",
    "print(city1.shape)\n",
    "print(city2.shape)"
   ]
  },
  {
   "cell_type": "code",
   "execution_count": 91,
   "metadata": {},
   "outputs": [],
   "source": [
    "from geopy.geocoders import Nominatim\n",
    "#import geopandas as gpd\n",
    "geolocator = Nominatim(user_agent=\"MyGeocoder\")\n",
    "\n",
    "from geopy.extra.rate_limiter import RateLimiter\n",
    "geocode = RateLimiter(geolocator.geocode, min_delay_seconds=1)"
   ]
  },
  {
   "cell_type": "code",
   "execution_count": 92,
   "metadata": {},
   "outputs": [
    {
     "name": "stderr",
     "output_type": "stream",
     "text": [
      " 40%|███▉      | 522/1312 [08:42<13:00,  1.01it/s]RateLimiter caught an error, retrying (0/2 tries). Called with (*('Santa Maria CA',), **{}).\n",
      "Traceback (most recent call last):\n",
      "  File \"/opt/homebrew/Caskroom/miniforge/base/lib/python3.9/site-packages/urllib3/connectionpool.py\", line 445, in _make_request\n",
      "    six.raise_from(e, None)\n",
      "  File \"<string>\", line 3, in raise_from\n",
      "  File \"/opt/homebrew/Caskroom/miniforge/base/lib/python3.9/site-packages/urllib3/connectionpool.py\", line 440, in _make_request\n",
      "    httplib_response = conn.getresponse()\n",
      "  File \"/opt/homebrew/Caskroom/miniforge/base/lib/python3.9/http/client.py\", line 1371, in getresponse\n",
      "    response.begin()\n",
      "  File \"/opt/homebrew/Caskroom/miniforge/base/lib/python3.9/http/client.py\", line 319, in begin\n",
      "    version, status, reason = self._read_status()\n",
      "  File \"/opt/homebrew/Caskroom/miniforge/base/lib/python3.9/http/client.py\", line 280, in _read_status\n",
      "    line = str(self.fp.readline(_MAXLINE + 1), \"iso-8859-1\")\n",
      "  File \"/opt/homebrew/Caskroom/miniforge/base/lib/python3.9/socket.py\", line 704, in readinto\n",
      "    return self._sock.recv_into(b)\n",
      "  File \"/opt/homebrew/Caskroom/miniforge/base/lib/python3.9/ssl.py\", line 1241, in recv_into\n",
      "    return self.read(nbytes, buffer)\n",
      "  File \"/opt/homebrew/Caskroom/miniforge/base/lib/python3.9/ssl.py\", line 1099, in read\n",
      "    return self._sslobj.read(len, buffer)\n",
      "socket.timeout: The read operation timed out\n",
      "\n",
      "During handling of the above exception, another exception occurred:\n",
      "\n",
      "Traceback (most recent call last):\n",
      "  File \"/opt/homebrew/Caskroom/miniforge/base/lib/python3.9/site-packages/urllib3/connectionpool.py\", line 699, in urlopen\n",
      "    httplib_response = self._make_request(\n",
      "  File \"/opt/homebrew/Caskroom/miniforge/base/lib/python3.9/site-packages/urllib3/connectionpool.py\", line 447, in _make_request\n",
      "    self._raise_timeout(err=e, url=url, timeout_value=read_timeout)\n",
      "  File \"/opt/homebrew/Caskroom/miniforge/base/lib/python3.9/site-packages/urllib3/connectionpool.py\", line 336, in _raise_timeout\n",
      "    raise ReadTimeoutError(\n",
      "urllib3.exceptions.ReadTimeoutError: HTTPSConnectionPool(host='nominatim.openstreetmap.org', port=443): Read timed out. (read timeout=1)\n",
      "\n",
      "During handling of the above exception, another exception occurred:\n",
      "\n",
      "Traceback (most recent call last):\n",
      "  File \"/opt/homebrew/Caskroom/miniforge/base/lib/python3.9/site-packages/requests/adapters.py\", line 439, in send\n",
      "    resp = conn.urlopen(\n",
      "  File \"/opt/homebrew/Caskroom/miniforge/base/lib/python3.9/site-packages/urllib3/connectionpool.py\", line 783, in urlopen\n",
      "    return self.urlopen(\n",
      "  File \"/opt/homebrew/Caskroom/miniforge/base/lib/python3.9/site-packages/urllib3/connectionpool.py\", line 783, in urlopen\n",
      "    return self.urlopen(\n",
      "  File \"/opt/homebrew/Caskroom/miniforge/base/lib/python3.9/site-packages/urllib3/connectionpool.py\", line 755, in urlopen\n",
      "    retries = retries.increment(\n",
      "  File \"/opt/homebrew/Caskroom/miniforge/base/lib/python3.9/site-packages/urllib3/util/retry.py\", line 574, in increment\n",
      "    raise MaxRetryError(_pool, url, error or ResponseError(cause))\n",
      "urllib3.exceptions.MaxRetryError: HTTPSConnectionPool(host='nominatim.openstreetmap.org', port=443): Max retries exceeded with url: /search?q=Santa+Maria+CA&format=json&limit=1 (Caused by ReadTimeoutError(\"HTTPSConnectionPool(host='nominatim.openstreetmap.org', port=443): Read timed out. (read timeout=1)\"))\n",
      "\n",
      "During handling of the above exception, another exception occurred:\n",
      "\n",
      "Traceback (most recent call last):\n",
      "  File \"/opt/homebrew/Caskroom/miniforge/base/lib/python3.9/site-packages/geopy/adapters.py\", line 448, in _request\n",
      "    resp = self.session.get(url, timeout=timeout, headers=headers)\n",
      "  File \"/opt/homebrew/Caskroom/miniforge/base/lib/python3.9/site-packages/requests/sessions.py\", line 555, in get\n",
      "    return self.request('GET', url, **kwargs)\n",
      "  File \"/opt/homebrew/Caskroom/miniforge/base/lib/python3.9/site-packages/requests/sessions.py\", line 542, in request\n",
      "    resp = self.send(prep, **send_kwargs)\n",
      "  File \"/opt/homebrew/Caskroom/miniforge/base/lib/python3.9/site-packages/requests/sessions.py\", line 655, in send\n",
      "    r = adapter.send(request, **kwargs)\n",
      "  File \"/opt/homebrew/Caskroom/miniforge/base/lib/python3.9/site-packages/requests/adapters.py\", line 516, in send\n",
      "    raise ConnectionError(e, request=request)\n",
      "requests.exceptions.ConnectionError: HTTPSConnectionPool(host='nominatim.openstreetmap.org', port=443): Max retries exceeded with url: /search?q=Santa+Maria+CA&format=json&limit=1 (Caused by ReadTimeoutError(\"HTTPSConnectionPool(host='nominatim.openstreetmap.org', port=443): Read timed out. (read timeout=1)\"))\n",
      "\n",
      "During handling of the above exception, another exception occurred:\n",
      "\n",
      "Traceback (most recent call last):\n",
      "  File \"/opt/homebrew/Caskroom/miniforge/base/lib/python3.9/site-packages/geopy/extra/rate_limiter.py\", line 136, in _retries_gen\n",
      "    yield i  # Run the function.\n",
      "  File \"/opt/homebrew/Caskroom/miniforge/base/lib/python3.9/site-packages/geopy/extra/rate_limiter.py\", line 274, in __call__\n",
      "    res = self.func(*args, **kwargs)\n",
      "  File \"/opt/homebrew/Caskroom/miniforge/base/lib/python3.9/site-packages/geopy/geocoders/nominatim.py\", line 297, in geocode\n",
      "    return self._call_geocoder(url, callback, timeout=timeout)\n",
      "  File \"/opt/homebrew/Caskroom/miniforge/base/lib/python3.9/site-packages/geopy/geocoders/base.py\", line 368, in _call_geocoder\n",
      "    result = self.adapter.get_json(url, timeout=timeout, headers=req_headers)\n",
      "  File \"/opt/homebrew/Caskroom/miniforge/base/lib/python3.9/site-packages/geopy/adapters.py\", line 438, in get_json\n",
      "    resp = self._request(url, timeout=timeout, headers=headers)\n",
      "  File \"/opt/homebrew/Caskroom/miniforge/base/lib/python3.9/site-packages/geopy/adapters.py\", line 460, in _request\n",
      "    raise GeocoderUnavailable(message)\n",
      "geopy.exc.GeocoderUnavailable: HTTPSConnectionPool(host='nominatim.openstreetmap.org', port=443): Max retries exceeded with url: /search?q=Santa+Maria+CA&format=json&limit=1 (Caused by ReadTimeoutError(\"HTTPSConnectionPool(host='nominatim.openstreetmap.org', port=443): Read timed out. (read timeout=1)\"))\n",
      "100%|██████████| 1312/1312 [23:06<00:00,  1.06s/it]\n"
     ]
    }
   ],
   "source": [
    "from tqdm import tqdm\n",
    "tqdm.pandas()\n",
    "#city1['location'] = city1['city'].progress_apply(geocode)\n",
    "#import time\n",
    "#time.sleep(5)\n",
    "df['location'] = df['city'].progress_apply(geocode)\n",
    "\n",
    "#df['location'] = df['city'].apply(geocode)\n",
    "df['lat'] = df['location'].apply(lambda geolocator: geolocator.point[0] if geolocator else None)\n",
    "df['long'] = df['location'].apply(lambda geolocator: geolocator.point[1] if geolocator else None)\n",
    "\n",
    "#city2['lat'] = city2['location'].apply(lambda geolocator: geolocator.point[0] if geolocator else None)\n",
    "#city2['long'] = city2['location'].apply(lambda geolocator: geolocator.point[1] if geolocator else None)"
   ]
  },
  {
   "cell_type": "code",
   "execution_count": 95,
   "metadata": {},
   "outputs": [],
   "source": [
    "df = df.drop(['location'],axis=1)\n",
    "df.to_csv('nomad_list_clean.csv')"
   ]
  },
  {
   "cell_type": "code",
   "execution_count": 96,
   "metadata": {},
   "outputs": [
    {
     "data": {
      "text/html": [
       "<div>\n",
       "<style scoped>\n",
       "    .dataframe tbody tr th:only-of-type {\n",
       "        vertical-align: middle;\n",
       "    }\n",
       "\n",
       "    .dataframe tbody tr th {\n",
       "        vertical-align: top;\n",
       "    }\n",
       "\n",
       "    .dataframe thead th {\n",
       "        text-align: right;\n",
       "    }\n",
       "</style>\n",
       "<table border=\"1\" class=\"dataframe\">\n",
       "  <thead>\n",
       "    <tr style=\"text-align: right;\">\n",
       "      <th></th>\n",
       "      <th>rank</th>\n",
       "      <th>city</th>\n",
       "      <th>total_score</th>\n",
       "      <th>life_quality</th>\n",
       "      <th>family_score</th>\n",
       "      <th>cost</th>\n",
       "      <th>internet</th>\n",
       "      <th>fun</th>\n",
       "      <th>air</th>\n",
       "      <th>crime</th>\n",
       "      <th>racism</th>\n",
       "      <th>Education</th>\n",
       "      <th>income</th>\n",
       "      <th>speak_english</th>\n",
       "      <th>walkability</th>\n",
       "      <th>traffic_safety</th>\n",
       "      <th>happiness</th>\n",
       "      <th>nightlife</th>\n",
       "      <th>free_wifi</th>\n",
       "      <th>coworking_places</th>\n",
       "      <th>ac_heating</th>\n",
       "      <th>foreigner frendly</th>\n",
       "      <th>speech_freedom</th>\n",
       "      <th>female_frendly</th>\n",
       "      <th>lgbtq_plus_friendly</th>\n",
       "      <th>startup_score</th>\n",
       "      <th>lat</th>\n",
       "      <th>long</th>\n",
       "    </tr>\n",
       "  </thead>\n",
       "  <tbody>\n",
       "    <tr>\n",
       "      <th>0</th>\n",
       "      <td>0</td>\n",
       "      <td>Lisbon</td>\n",
       "      <td>4.8</td>\n",
       "      <td>4.0</td>\n",
       "      <td>4.0</td>\n",
       "      <td>2082.0</td>\n",
       "      <td>26.0</td>\n",
       "      <td>5.0</td>\n",
       "      <td>32.0</td>\n",
       "      <td>5.0</td>\n",
       "      <td>3.0</td>\n",
       "      <td>3.0</td>\n",
       "      <td>1646.0</td>\n",
       "      <td>5.0</td>\n",
       "      <td>5.0</td>\n",
       "      <td>3.0</td>\n",
       "      <td>3.0</td>\n",
       "      <td>3.0</td>\n",
       "      <td>3.0</td>\n",
       "      <td>5.0</td>\n",
       "      <td>3.0</td>\n",
       "      <td>4.0</td>\n",
       "      <td>4.0</td>\n",
       "      <td>4.0</td>\n",
       "      <td>5.0</td>\n",
       "      <td>3.0</td>\n",
       "      <td>38.707751</td>\n",
       "      <td>-9.136592</td>\n",
       "    </tr>\n",
       "    <tr>\n",
       "      <th>1</th>\n",
       "      <td>1</td>\n",
       "      <td>Cape Town</td>\n",
       "      <td>4.6</td>\n",
       "      <td>4.0</td>\n",
       "      <td>4.0</td>\n",
       "      <td>1692.0</td>\n",
       "      <td>8.0</td>\n",
       "      <td>4.0</td>\n",
       "      <td>16.0</td>\n",
       "      <td>1.0</td>\n",
       "      <td>3.0</td>\n",
       "      <td>3.0</td>\n",
       "      <td>425.0</td>\n",
       "      <td>5.0</td>\n",
       "      <td>5.0</td>\n",
       "      <td>2.0</td>\n",
       "      <td>2.0</td>\n",
       "      <td>4.0</td>\n",
       "      <td>4.0</td>\n",
       "      <td>5.0</td>\n",
       "      <td>2.0</td>\n",
       "      <td>4.0</td>\n",
       "      <td>4.0</td>\n",
       "      <td>3.0</td>\n",
       "      <td>5.0</td>\n",
       "      <td>3.0</td>\n",
       "      <td>-33.928992</td>\n",
       "      <td>18.417396</td>\n",
       "    </tr>\n",
       "    <tr>\n",
       "      <th>2</th>\n",
       "      <td>2</td>\n",
       "      <td>Porto</td>\n",
       "      <td>4.5</td>\n",
       "      <td>4.0</td>\n",
       "      <td>4.0</td>\n",
       "      <td>1945.0</td>\n",
       "      <td>33.0</td>\n",
       "      <td>4.0</td>\n",
       "      <td>11.0</td>\n",
       "      <td>5.0</td>\n",
       "      <td>3.0</td>\n",
       "      <td>3.0</td>\n",
       "      <td>1646.0</td>\n",
       "      <td>4.0</td>\n",
       "      <td>2.0</td>\n",
       "      <td>3.0</td>\n",
       "      <td>3.0</td>\n",
       "      <td>3.0</td>\n",
       "      <td>4.0</td>\n",
       "      <td>5.0</td>\n",
       "      <td>5.0</td>\n",
       "      <td>4.0</td>\n",
       "      <td>4.0</td>\n",
       "      <td>4.0</td>\n",
       "      <td>5.0</td>\n",
       "      <td>3.0</td>\n",
       "      <td>41.149451</td>\n",
       "      <td>-8.610788</td>\n",
       "    </tr>\n",
       "    <tr>\n",
       "      <th>3</th>\n",
       "      <td>3</td>\n",
       "      <td>Madeira</td>\n",
       "      <td>4.5</td>\n",
       "      <td>4.0</td>\n",
       "      <td>4.0</td>\n",
       "      <td>2059.0</td>\n",
       "      <td>38.0</td>\n",
       "      <td>4.0</td>\n",
       "      <td>11.0</td>\n",
       "      <td>5.0</td>\n",
       "      <td>3.0</td>\n",
       "      <td>3.0</td>\n",
       "      <td>1646.0</td>\n",
       "      <td>4.0</td>\n",
       "      <td>2.0</td>\n",
       "      <td>3.0</td>\n",
       "      <td>3.0</td>\n",
       "      <td>3.0</td>\n",
       "      <td>5.0</td>\n",
       "      <td>5.0</td>\n",
       "      <td>3.0</td>\n",
       "      <td>5.0</td>\n",
       "      <td>4.0</td>\n",
       "      <td>4.0</td>\n",
       "      <td>5.0</td>\n",
       "      <td>3.0</td>\n",
       "      <td>32.751749</td>\n",
       "      <td>-16.981752</td>\n",
       "    </tr>\n",
       "    <tr>\n",
       "      <th>4</th>\n",
       "      <td>4</td>\n",
       "      <td>Las Palmas Canary Islands</td>\n",
       "      <td>4.5</td>\n",
       "      <td>4.0</td>\n",
       "      <td>4.0</td>\n",
       "      <td>2298.0</td>\n",
       "      <td>25.0</td>\n",
       "      <td>4.0</td>\n",
       "      <td>38.0</td>\n",
       "      <td>5.0</td>\n",
       "      <td>3.0</td>\n",
       "      <td>4.0</td>\n",
       "      <td>2225.0</td>\n",
       "      <td>3.0</td>\n",
       "      <td>5.0</td>\n",
       "      <td>3.0</td>\n",
       "      <td>4.0</td>\n",
       "      <td>4.0</td>\n",
       "      <td>3.0</td>\n",
       "      <td>5.0</td>\n",
       "      <td>3.0</td>\n",
       "      <td>4.0</td>\n",
       "      <td>4.0</td>\n",
       "      <td>4.0</td>\n",
       "      <td>5.0</td>\n",
       "      <td>3.0</td>\n",
       "      <td>27.958000</td>\n",
       "      <td>-15.606231</td>\n",
       "    </tr>\n",
       "    <tr>\n",
       "      <th>...</th>\n",
       "      <td>...</td>\n",
       "      <td>...</td>\n",
       "      <td>...</td>\n",
       "      <td>...</td>\n",
       "      <td>...</td>\n",
       "      <td>...</td>\n",
       "      <td>...</td>\n",
       "      <td>...</td>\n",
       "      <td>...</td>\n",
       "      <td>...</td>\n",
       "      <td>...</td>\n",
       "      <td>...</td>\n",
       "      <td>...</td>\n",
       "      <td>...</td>\n",
       "      <td>...</td>\n",
       "      <td>...</td>\n",
       "      <td>...</td>\n",
       "      <td>...</td>\n",
       "      <td>...</td>\n",
       "      <td>...</td>\n",
       "      <td>...</td>\n",
       "      <td>...</td>\n",
       "      <td>...</td>\n",
       "      <td>...</td>\n",
       "      <td>...</td>\n",
       "      <td>...</td>\n",
       "      <td>...</td>\n",
       "      <td>...</td>\n",
       "    </tr>\n",
       "    <tr>\n",
       "      <th>1307</th>\n",
       "      <td>1338</td>\n",
       "      <td>Ramallah</td>\n",
       "      <td>2.0</td>\n",
       "      <td>3.0</td>\n",
       "      <td>3.0</td>\n",
       "      <td>5474.0</td>\n",
       "      <td>6.0</td>\n",
       "      <td>2.0</td>\n",
       "      <td>62.0</td>\n",
       "      <td>5.0</td>\n",
       "      <td>4.0</td>\n",
       "      <td>3.0</td>\n",
       "      <td>233.0</td>\n",
       "      <td>3.0</td>\n",
       "      <td>2.0</td>\n",
       "      <td>3.0</td>\n",
       "      <td>3.0</td>\n",
       "      <td>4.0</td>\n",
       "      <td>2.0</td>\n",
       "      <td>3.0</td>\n",
       "      <td>3.0</td>\n",
       "      <td>4.0</td>\n",
       "      <td>3.0</td>\n",
       "      <td>3.0</td>\n",
       "      <td>2.0</td>\n",
       "      <td>2.0</td>\n",
       "      <td>31.903054</td>\n",
       "      <td>35.195225</td>\n",
       "    </tr>\n",
       "    <tr>\n",
       "      <th>1308</th>\n",
       "      <td>1339</td>\n",
       "      <td>Homs</td>\n",
       "      <td>1.9</td>\n",
       "      <td>2.0</td>\n",
       "      <td>2.0</td>\n",
       "      <td>1241.0</td>\n",
       "      <td>1.0</td>\n",
       "      <td>2.0</td>\n",
       "      <td>62.0</td>\n",
       "      <td>4.0</td>\n",
       "      <td>2.0</td>\n",
       "      <td>3.0</td>\n",
       "      <td>100.0</td>\n",
       "      <td>2.0</td>\n",
       "      <td>5.0</td>\n",
       "      <td>2.0</td>\n",
       "      <td>2.0</td>\n",
       "      <td>2.0</td>\n",
       "      <td>2.0</td>\n",
       "      <td>2.0</td>\n",
       "      <td>2.0</td>\n",
       "      <td>2.0</td>\n",
       "      <td>3.0</td>\n",
       "      <td>2.0</td>\n",
       "      <td>2.0</td>\n",
       "      <td>2.0</td>\n",
       "      <td>34.733333</td>\n",
       "      <td>36.716667</td>\n",
       "    </tr>\n",
       "    <tr>\n",
       "      <th>1309</th>\n",
       "      <td>1341</td>\n",
       "      <td>Monrovia</td>\n",
       "      <td>1.9</td>\n",
       "      <td>2.0</td>\n",
       "      <td>2.0</td>\n",
       "      <td>5506.0</td>\n",
       "      <td>9.0</td>\n",
       "      <td>2.0</td>\n",
       "      <td>62.0</td>\n",
       "      <td>4.0</td>\n",
       "      <td>2.0</td>\n",
       "      <td>1.0</td>\n",
       "      <td>50.0</td>\n",
       "      <td>2.0</td>\n",
       "      <td>2.0</td>\n",
       "      <td>2.0</td>\n",
       "      <td>2.0</td>\n",
       "      <td>3.0</td>\n",
       "      <td>2.0</td>\n",
       "      <td>5.0</td>\n",
       "      <td>2.0</td>\n",
       "      <td>3.0</td>\n",
       "      <td>3.0</td>\n",
       "      <td>2.0</td>\n",
       "      <td>2.0</td>\n",
       "      <td>2.0</td>\n",
       "      <td>6.328034</td>\n",
       "      <td>-10.797788</td>\n",
       "    </tr>\n",
       "    <tr>\n",
       "      <th>1310</th>\n",
       "      <td>1343</td>\n",
       "      <td>Hama</td>\n",
       "      <td>1.8</td>\n",
       "      <td>2.0</td>\n",
       "      <td>2.0</td>\n",
       "      <td>1950.0</td>\n",
       "      <td>2.0</td>\n",
       "      <td>2.0</td>\n",
       "      <td>62.0</td>\n",
       "      <td>4.0</td>\n",
       "      <td>2.0</td>\n",
       "      <td>3.0</td>\n",
       "      <td>100.0</td>\n",
       "      <td>2.0</td>\n",
       "      <td>2.0</td>\n",
       "      <td>2.0</td>\n",
       "      <td>2.0</td>\n",
       "      <td>2.0</td>\n",
       "      <td>2.0</td>\n",
       "      <td>2.0</td>\n",
       "      <td>2.0</td>\n",
       "      <td>2.0</td>\n",
       "      <td>3.0</td>\n",
       "      <td>2.0</td>\n",
       "      <td>2.0</td>\n",
       "      <td>2.0</td>\n",
       "      <td>35.134337</td>\n",
       "      <td>36.749628</td>\n",
       "    </tr>\n",
       "    <tr>\n",
       "      <th>1311</th>\n",
       "      <td>1344</td>\n",
       "      <td>Yangzhou</td>\n",
       "      <td>1.7</td>\n",
       "      <td>3.0</td>\n",
       "      <td>2.0</td>\n",
       "      <td>4691.0</td>\n",
       "      <td>1.0</td>\n",
       "      <td>2.0</td>\n",
       "      <td>103.0</td>\n",
       "      <td>5.0</td>\n",
       "      <td>2.0</td>\n",
       "      <td>3.0</td>\n",
       "      <td>677.0</td>\n",
       "      <td>2.0</td>\n",
       "      <td>5.0</td>\n",
       "      <td>2.0</td>\n",
       "      <td>3.0</td>\n",
       "      <td>2.0</td>\n",
       "      <td>2.0</td>\n",
       "      <td>4.0</td>\n",
       "      <td>3.0</td>\n",
       "      <td>3.0</td>\n",
       "      <td>3.0</td>\n",
       "      <td>3.0</td>\n",
       "      <td>2.0</td>\n",
       "      <td>2.0</td>\n",
       "      <td>32.396994</td>\n",
       "      <td>119.407701</td>\n",
       "    </tr>\n",
       "  </tbody>\n",
       "</table>\n",
       "<p>1312 rows × 28 columns</p>\n",
       "</div>"
      ],
      "text/plain": [
       "      rank                       city  total_score  life_quality  \\\n",
       "0        0                     Lisbon          4.8           4.0   \n",
       "1        1                  Cape Town          4.6           4.0   \n",
       "2        2                      Porto          4.5           4.0   \n",
       "3        3                    Madeira          4.5           4.0   \n",
       "4        4  Las Palmas Canary Islands          4.5           4.0   \n",
       "...    ...                        ...          ...           ...   \n",
       "1307  1338                   Ramallah          2.0           3.0   \n",
       "1308  1339                       Homs          1.9           2.0   \n",
       "1309  1341                   Monrovia          1.9           2.0   \n",
       "1310  1343                       Hama          1.8           2.0   \n",
       "1311  1344                   Yangzhou          1.7           3.0   \n",
       "\n",
       "      family_score    cost  internet  fun    air  crime  racism  Education  \\\n",
       "0              4.0  2082.0      26.0  5.0   32.0    5.0     3.0        3.0   \n",
       "1              4.0  1692.0       8.0  4.0   16.0    1.0     3.0        3.0   \n",
       "2              4.0  1945.0      33.0  4.0   11.0    5.0     3.0        3.0   \n",
       "3              4.0  2059.0      38.0  4.0   11.0    5.0     3.0        3.0   \n",
       "4              4.0  2298.0      25.0  4.0   38.0    5.0     3.0        4.0   \n",
       "...            ...     ...       ...  ...    ...    ...     ...        ...   \n",
       "1307           3.0  5474.0       6.0  2.0   62.0    5.0     4.0        3.0   \n",
       "1308           2.0  1241.0       1.0  2.0   62.0    4.0     2.0        3.0   \n",
       "1309           2.0  5506.0       9.0  2.0   62.0    4.0     2.0        1.0   \n",
       "1310           2.0  1950.0       2.0  2.0   62.0    4.0     2.0        3.0   \n",
       "1311           2.0  4691.0       1.0  2.0  103.0    5.0     2.0        3.0   \n",
       "\n",
       "      income  speak_english  walkability  traffic_safety  happiness  \\\n",
       "0     1646.0            5.0          5.0             3.0        3.0   \n",
       "1      425.0            5.0          5.0             2.0        2.0   \n",
       "2     1646.0            4.0          2.0             3.0        3.0   \n",
       "3     1646.0            4.0          2.0             3.0        3.0   \n",
       "4     2225.0            3.0          5.0             3.0        4.0   \n",
       "...      ...            ...          ...             ...        ...   \n",
       "1307   233.0            3.0          2.0             3.0        3.0   \n",
       "1308   100.0            2.0          5.0             2.0        2.0   \n",
       "1309    50.0            2.0          2.0             2.0        2.0   \n",
       "1310   100.0            2.0          2.0             2.0        2.0   \n",
       "1311   677.0            2.0          5.0             2.0        3.0   \n",
       "\n",
       "      nightlife  free_wifi  coworking_places  ac_heating  foreigner frendly  \\\n",
       "0           3.0        3.0               5.0         3.0                4.0   \n",
       "1           4.0        4.0               5.0         2.0                4.0   \n",
       "2           3.0        4.0               5.0         5.0                4.0   \n",
       "3           3.0        5.0               5.0         3.0                5.0   \n",
       "4           4.0        3.0               5.0         3.0                4.0   \n",
       "...         ...        ...               ...         ...                ...   \n",
       "1307        4.0        2.0               3.0         3.0                4.0   \n",
       "1308        2.0        2.0               2.0         2.0                2.0   \n",
       "1309        3.0        2.0               5.0         2.0                3.0   \n",
       "1310        2.0        2.0               2.0         2.0                2.0   \n",
       "1311        2.0        2.0               4.0         3.0                3.0   \n",
       "\n",
       "      speech_freedom  female_frendly  lgbtq_plus_friendly  startup_score  \\\n",
       "0                4.0             4.0                  5.0            3.0   \n",
       "1                4.0             3.0                  5.0            3.0   \n",
       "2                4.0             4.0                  5.0            3.0   \n",
       "3                4.0             4.0                  5.0            3.0   \n",
       "4                4.0             4.0                  5.0            3.0   \n",
       "...              ...             ...                  ...            ...   \n",
       "1307             3.0             3.0                  2.0            2.0   \n",
       "1308             3.0             2.0                  2.0            2.0   \n",
       "1309             3.0             2.0                  2.0            2.0   \n",
       "1310             3.0             2.0                  2.0            2.0   \n",
       "1311             3.0             3.0                  2.0            2.0   \n",
       "\n",
       "            lat        long  \n",
       "0     38.707751   -9.136592  \n",
       "1    -33.928992   18.417396  \n",
       "2     41.149451   -8.610788  \n",
       "3     32.751749  -16.981752  \n",
       "4     27.958000  -15.606231  \n",
       "...         ...         ...  \n",
       "1307  31.903054   35.195225  \n",
       "1308  34.733333   36.716667  \n",
       "1309   6.328034  -10.797788  \n",
       "1310  35.134337   36.749628  \n",
       "1311  32.396994  119.407701  \n",
       "\n",
       "[1312 rows x 28 columns]"
      ]
     },
     "execution_count": 96,
     "metadata": {},
     "output_type": "execute_result"
    }
   ],
   "source": [
    "df"
   ]
  },
  {
   "cell_type": "code",
   "execution_count": null,
   "metadata": {},
   "outputs": [],
   "source": []
  }
 ],
 "metadata": {
  "interpreter": {
   "hash": "b0fa6594d8f4cbf19f97940f81e996739fb7646882a419484c72d19e05852a7e"
  },
  "kernelspec": {
   "display_name": "Python 3.9.7 64-bit",
   "language": "python",
   "name": "python3"
  },
  "language_info": {
   "codemirror_mode": {
    "name": "ipython",
    "version": 3
   },
   "file_extension": ".py",
   "mimetype": "text/x-python",
   "name": "python",
   "nbconvert_exporter": "python",
   "pygments_lexer": "ipython3",
   "version": "3.9.7"
  },
  "orig_nbformat": 4
 },
 "nbformat": 4,
 "nbformat_minor": 2
}
